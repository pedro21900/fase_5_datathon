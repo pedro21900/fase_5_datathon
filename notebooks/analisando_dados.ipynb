{
 "cells": [
  {
   "metadata": {},
   "cell_type": "markdown",
   "source": "# Pré-processamento de dados de dados",
   "id": "f1110152d1c3a7c8"
  },
  {
   "metadata": {
    "ExecuteTime": {
     "end_time": "2025-02-28T19:41:25.646315Z",
     "start_time": "2025-02-28T19:41:25.632761Z"
    }
   },
   "cell_type": "code",
   "source": [
    "from datetime import datetime\n",
    "\n",
    "import pandas as pd\n",
    "from sklearn.preprocessing import MinMaxScaler, normalize\n",
    "import numpy as np\n",
    "from tqdm import tqdm\n",
    "from scipy.sparse import csr_matrix, vstack\n",
    "\n",
    "interaction_columns = [\n",
    "    'pageVisitsCountHistory',\n",
    "    'scrollPercentageHistory',\n",
    "]\n",
    "\n",
    "\n",
    "\n",
    "def calc_recency_score(issued: pd.Series):\n",
    "    \"\"\"\n",
    "    Calcula o score de recência para uma série de timestamps.\n",
    "\n",
    "    O score é inversamente proporcional ao tempo decorrido,\n",
    "    dando mais prioridade a notícias mais recentes.\n",
    "\n",
    "    :param issued: Série com os timestamps das notícias.\n",
    "    :return: Série com os scores de recência.\n",
    "    \"\"\"\n",
    "    # Converter os timestamps para milissegundos\n",
    "\n",
    "    now = parse_date_timestamp(datetime.timestamp(datetime.now()))\n",
    "\n",
    "    # Calcular o score de recência, evitando divisão por zero\n",
    "    return 1 / np.maximum(now - parse_date_timestamp(issued), 1e-6)\n",
    "\n",
    "\n",
    "def parse_date_timestamp(date):\n",
    "    # Converte para datetime se ainda for string\n",
    "    if isinstance(date, str):\n",
    "        date = pd.to_datetime(date, errors='coerce')\n",
    "    elif isinstance(date, float):\n",
    "        return (date * 1000)\n",
    "\n",
    "    return int(datetime.timestamp(date) * 1000)\n",
    "\n",
    "\n",
    "def build_interaction_matrix(df, interaction_columns, chunk_size=10000):\n",
    "    \"\"\"\n",
    "    Constrói uma matriz de interação a partir de um DataFrame específico em chunks.\n",
    "    Garante que todas as matrizes parciais tenham as mesmas colunas automaticamente.\n",
    "    Retorna uma matriz esparsa empilhada verticalmente.\n",
    "    \"\"\"\n",
    "    interaction_matrix = []\n",
    "\n",
    "    # Extrai todas as colunas únicas automaticamente do DataFrame\n",
    "    all_columns = df['history'].unique()\n",
    "    print(f\"Colunas únicas encontradas: {len(all_columns)}\")\n",
    "\n",
    "    for start in tqdm(range(0, len(df), chunk_size), desc='Building interaction matrix'):\n",
    "        chunk = df.iloc[start:start + chunk_size]\n",
    "\n",
    "        # Gera a matriz de interação parcial\n",
    "        partial_matrix = chunk.pivot_table(\n",
    "            index='userId',\n",
    "            columns='history',\n",
    "            values=interaction_columns,\n",
    "            aggfunc='mean',\n",
    "            fill_value=0\n",
    "        )\n",
    "\n",
    "        # Reindexa para garantir a consistência das colunas\n",
    "        partial_matrix = partial_matrix.reindex(columns=all_columns, fill_value=0)\n",
    "\n",
    "        # Converte para matriz esparsa e acumula\n",
    "        interaction_matrix.append(csr_matrix(partial_matrix))\n",
    "\n",
    "    # Retorna a matriz esparsa empilhada verticalmente\n",
    "    return vstack(interaction_matrix)\n",
    "\n",
    "\n",
    "\n",
    "\n",
    "def transform_user_to_info_user_item(user_info):\n",
    "    user_item = user_info[['userId', 'history', 'timestampHistory', 'numberOfClicksHistory', 'timeOnPageHistory', 'scrollPercentageHistory', 'pageVisitsCountHistory', 'timestampHistory_new']]\n",
    "\n",
    "    user_item = user_item.set_index('userId').apply(lambda row: row.str.split(','), axis=1)\n",
    "    user_item = user_item.apply(pd.Series.explode).reset_index()\n",
    "    user_item['numberOfClicksHistory'] = user_item['numberOfClicksHistory'].astype(int)\n",
    "    user_item['timeOnPageHistory'] = user_item['timeOnPageHistory'].astype(int)\n",
    "    user_item['scrollPercentageHistory'] = user_item['scrollPercentageHistory'].astype(float)\n",
    "    user_item['timestampHistory'] = pd.to_numeric(user_item['timestampHistory'], errors='coerce').fillna(0).astype(int)\n",
    "    user_item['pageVisitsCountHistory'] = pd.to_numeric(user_item['pageVisitsCountHistory'], errors='coerce').fillna(0).astype(int)\n",
    "    user_item['history'] = user_item['history'].str.strip()\n",
    "    user_item['userId'] = user_item['userId'].str.strip()\n",
    "    return user_item\n"
   ],
   "id": "84321da7d1990a78",
   "outputs": [],
   "execution_count": 8
  },
  {
   "metadata": {
    "ExecuteTime": {
     "end_time": "2025-02-28T20:06:25.169947Z",
     "start_time": "2025-02-28T19:56:28.024540Z"
    }
   },
   "cell_type": "code",
   "source": [
    "# 🆔 Obter o índice numérico do usuário\n",
    "\n",
    "import pandas as pd\n",
    "import glob\n",
    "from scipy.sparse import csr_matrix\n",
    "from sklearn.preprocessing import StandardScaler\n",
    "\n",
    "# Lista para acumular as matrizes parciais\n",
    "interaction_matrices = []\n",
    "\n",
    "user_infos = []\n",
    "\n",
    "for fpath in glob.glob('../data/raw/files/treino/*.csv'):\n",
    "    print(f\"Processando: {fpath}\")\n",
    "    df = pd.read_csv(fpath)\n",
    "    df = transform_user_to_info_user_item(df)\n",
    "\n",
    "    interaction_matrices.append(build_interaction_matrix(df, interaction_columns))\n",
    "    user_infos.append(df)"
   ],
   "id": "1ec7693be3a3e4fc",
   "outputs": [
    {
     "name": "stdout",
     "output_type": "stream",
     "text": [
      "Processando: ../data/raw/files/treino/treino_parte6.csv\n",
      "Colunas únicas encontradas: 94177\n"
     ]
    },
    {
     "name": "stderr",
     "output_type": "stream",
     "text": [
      "Building interaction matrix: 100%|██████████| 112/112 [01:06<00:00,  1.67it/s]\n"
     ]
    },
    {
     "name": "stdout",
     "output_type": "stream",
     "text": [
      "Processando: ../data/raw/files/treino/treino_parte3.csv\n",
      "Colunas únicas encontradas: 107743\n"
     ]
    },
    {
     "name": "stderr",
     "output_type": "stream",
     "text": [
      "Building interaction matrix: 100%|██████████| 142/142 [01:36<00:00,  1.48it/s]\n"
     ]
    },
    {
     "name": "stdout",
     "output_type": "stream",
     "text": [
      "Processando: ../data/raw/files/treino/treino_parte4.csv\n",
      "Colunas únicas encontradas: 107578\n"
     ]
    },
    {
     "name": "stderr",
     "output_type": "stream",
     "text": [
      "Building interaction matrix: 100%|██████████| 141/141 [01:34<00:00,  1.48it/s]\n"
     ]
    },
    {
     "name": "stdout",
     "output_type": "stream",
     "text": [
      "Processando: ../data/raw/files/treino/treino_parte5.csv\n",
      "Colunas únicas encontradas: 107044\n"
     ]
    },
    {
     "name": "stderr",
     "output_type": "stream",
     "text": [
      "Building interaction matrix: 100%|██████████| 138/138 [01:34<00:00,  1.46it/s]\n"
     ]
    },
    {
     "name": "stdout",
     "output_type": "stream",
     "text": [
      "Processando: ../data/raw/files/treino/treino_parte1.csv\n",
      "Colunas únicas encontradas: 108573\n"
     ]
    },
    {
     "name": "stderr",
     "output_type": "stream",
     "text": [
      "Building interaction matrix: 100%|██████████| 143/143 [01:33<00:00,  1.53it/s]\n"
     ]
    },
    {
     "name": "stdout",
     "output_type": "stream",
     "text": [
      "Processando: ../data/raw/files/treino/treino_parte2.csv\n",
      "Colunas únicas encontradas: 106992\n"
     ]
    },
    {
     "name": "stderr",
     "output_type": "stream",
     "text": [
      "Building interaction matrix: 100%|██████████| 140/140 [01:35<00:00,  1.46it/s]\n"
     ]
    }
   ],
   "execution_count": 10
  },
  {
   "metadata": {
    "ExecuteTime": {
     "end_time": "2025-02-28T20:09:40.462549Z",
     "start_time": "2025-02-28T20:09:40.432594Z"
    }
   },
   "cell_type": "code",
   "source": [
    "from scipy.sparse import vstack\n",
    "from sklearn.preprocessing import StandardScaler\n",
    "import pandas as pd\n",
    "\n",
    "user_info = pd.concat(user_infos, ignore_index=True)\n",
    "\n",
    "# Define um conjunto fixo de colunas baseado no DataFrame completo\n",
    "all_columns = user_infos['history'].unique()\n",
    "all_columns = pd.Index(all_columns)\n",
    "\n",
    "# Concatena todas as matrizes esparsas em uma matriz final\n",
    "if interaction_matrices:\n",
    "    print(\"Concatenando matrizes...\")\n",
    "    interaction_matrix = vstack(interaction_matrices)\n",
    "\n",
    "    # Normaliza e converte para matriz esparsa\n",
    "    print(\"Normalizando e convertendo para matriz esparsa...\")\n",
    "    interaction_matrix = StandardScaler().fit_transform(interaction_matrix.toarray())\n",
    "    interaction_matrix = csr_matrix(interaction_matrix)\n",
    "\n",
    "    # Extrai categorias de usuários e itens\n",
    "    user_id_category = pd.Categorical(range(interaction_matrix.shape[0]))\n",
    "    history_id_category = pd.Categorical(range(interaction_matrix.shape[1]))\n",
    "\n",
    "    print(\"Matriz de interação criada com sucesso!\")\n",
    "else:\n",
    "    print(\"Nenhum dado processado!\")"
   ],
   "id": "c387613ec2ccae98",
   "outputs": [
    {
     "name": "stdout",
     "output_type": "stream",
     "text": [
      "Concatenando matrizes...\n"
     ]
    },
    {
     "ename": "ValueError",
     "evalue": "incompatible dimensions for axis 1",
     "output_type": "error",
     "traceback": [
      "\u001B[31m---------------------------------------------------------------------------\u001B[39m",
      "\u001B[31mValueError\u001B[39m                                Traceback (most recent call last)",
      "\u001B[36mCell\u001B[39m\u001B[36m \u001B[39m\u001B[32mIn[18]\u001B[39m\u001B[32m, line 10\u001B[39m\n\u001B[32m      8\u001B[39m \u001B[38;5;28;01mif\u001B[39;00m interaction_matrices:\n\u001B[32m      9\u001B[39m     \u001B[38;5;28mprint\u001B[39m(\u001B[33m\"\u001B[39m\u001B[33mConcatenando matrizes...\u001B[39m\u001B[33m\"\u001B[39m)\n\u001B[32m---> \u001B[39m\u001B[32m10\u001B[39m     interaction_matrix = \u001B[43mvstack\u001B[49m\u001B[43m(\u001B[49m\u001B[43minteraction_matrices\u001B[49m\u001B[43m)\u001B[49m\n\u001B[32m     12\u001B[39m     \u001B[38;5;66;03m# Normaliza e converte para matriz esparsa\u001B[39;00m\n\u001B[32m     13\u001B[39m     \u001B[38;5;28mprint\u001B[39m(\u001B[33m\"\u001B[39m\u001B[33mNormalizando e convertendo para matriz esparsa...\u001B[39m\u001B[33m\"\u001B[39m)\n",
      "\u001B[36mFile \u001B[39m\u001B[32m~/.cache/pypoetry/virtualenvs/fase-5-datathon-QcRMMR4--py3.12/lib/python3.12/site-packages/scipy/sparse/_construct.py:804\u001B[39m, in \u001B[36mvstack\u001B[39m\u001B[34m(blocks, format, dtype)\u001B[39m\n\u001B[32m    802\u001B[39m     \u001B[38;5;28;01mreturn\u001B[39;00m _block([[b] \u001B[38;5;28;01mfor\u001B[39;00m b \u001B[38;5;129;01min\u001B[39;00m blocks], \u001B[38;5;28mformat\u001B[39m, dtype)\n\u001B[32m    803\u001B[39m \u001B[38;5;28;01melse\u001B[39;00m:\n\u001B[32m--> \u001B[39m\u001B[32m804\u001B[39m     \u001B[38;5;28;01mreturn\u001B[39;00m \u001B[43m_block\u001B[49m\u001B[43m(\u001B[49m\u001B[43m[\u001B[49m\u001B[43m[\u001B[49m\u001B[43mb\u001B[49m\u001B[43m]\u001B[49m\u001B[43m \u001B[49m\u001B[38;5;28;43;01mfor\u001B[39;49;00m\u001B[43m \u001B[49m\u001B[43mb\u001B[49m\u001B[43m \u001B[49m\u001B[38;5;129;43;01min\u001B[39;49;00m\u001B[43m \u001B[49m\u001B[43mblocks\u001B[49m\u001B[43m]\u001B[49m\u001B[43m,\u001B[49m\u001B[43m \u001B[49m\u001B[38;5;28;43mformat\u001B[39;49m\u001B[43m,\u001B[49m\u001B[43m \u001B[49m\u001B[43mdtype\u001B[49m\u001B[43m,\u001B[49m\u001B[43m \u001B[49m\u001B[43mreturn_spmatrix\u001B[49m\u001B[43m=\u001B[49m\u001B[38;5;28;43;01mTrue\u001B[39;49;00m\u001B[43m)\u001B[49m\n",
      "\u001B[36mFile \u001B[39m\u001B[32m~/.cache/pypoetry/virtualenvs/fase-5-datathon-QcRMMR4--py3.12/lib/python3.12/site-packages/scipy/sparse/_construct.py:935\u001B[39m, in \u001B[36m_block\u001B[39m\u001B[34m(blocks, format, dtype, return_spmatrix)\u001B[39m\n\u001B[32m    932\u001B[39m     blocks = np.asarray(blocks, dtype=\u001B[33m'\u001B[39m\u001B[33mobject\u001B[39m\u001B[33m'\u001B[39m)\n\u001B[32m    934\u001B[39m \u001B[38;5;66;03m# stack along rows (axis 0):\u001B[39;00m\n\u001B[32m--> \u001B[39m\u001B[32m935\u001B[39m A = \u001B[43m_compressed_sparse_stack\u001B[49m\u001B[43m(\u001B[49m\u001B[43mblocks\u001B[49m\u001B[43m[\u001B[49m\u001B[43m:\u001B[49m\u001B[43m,\u001B[49m\u001B[43m \u001B[49m\u001B[32;43m0\u001B[39;49m\u001B[43m]\u001B[49m\u001B[43m,\u001B[49m\u001B[43m \u001B[49m\u001B[32;43m0\u001B[39;49m\u001B[43m,\u001B[49m\u001B[43m \u001B[49m\u001B[43mreturn_spmatrix\u001B[49m\u001B[43m)\u001B[49m\n\u001B[32m    936\u001B[39m \u001B[38;5;28;01mif\u001B[39;00m dtype \u001B[38;5;129;01mis\u001B[39;00m \u001B[38;5;129;01mnot\u001B[39;00m \u001B[38;5;28;01mNone\u001B[39;00m:\n\u001B[32m    937\u001B[39m     A = A.astype(dtype, copy=\u001B[38;5;28;01mFalse\u001B[39;00m)\n",
      "\u001B[36mFile \u001B[39m\u001B[32m~/.cache/pypoetry/virtualenvs/fase-5-datathon-QcRMMR4--py3.12/lib/python3.12/site-packages/scipy/sparse/_construct.py:630\u001B[39m, in \u001B[36m_compressed_sparse_stack\u001B[39m\u001B[34m(blocks, axis, return_spmatrix)\u001B[39m\n\u001B[32m    628\u001B[39m \u001B[38;5;28;01mfor\u001B[39;00m b \u001B[38;5;129;01min\u001B[39;00m blocks:\n\u001B[32m    629\u001B[39m     \u001B[38;5;28;01mif\u001B[39;00m b._shape_as_2d[other_axis] != constant_dim:\n\u001B[32m--> \u001B[39m\u001B[32m630\u001B[39m         \u001B[38;5;28;01mraise\u001B[39;00m \u001B[38;5;167;01mValueError\u001B[39;00m(\u001B[33mf\u001B[39m\u001B[33m'\u001B[39m\u001B[33mincompatible dimensions for axis \u001B[39m\u001B[38;5;132;01m{\u001B[39;00mother_axis\u001B[38;5;132;01m}\u001B[39;00m\u001B[33m'\u001B[39m)\n\u001B[32m    631\u001B[39m     indices[sum_indices:sum_indices+b.indices.size] = b.indices\n\u001B[32m    632\u001B[39m     sum_indices += b.indices.size\n",
      "\u001B[31mValueError\u001B[39m: incompatible dimensions for axis 1"
     ]
    }
   ],
   "execution_count": 18
  },
  {
   "metadata": {
    "ExecuteTime": {
     "end_time": "2025-02-28T18:54:19.961074Z",
     "start_time": "2025-02-28T18:54:14.173113Z"
    }
   },
   "cell_type": "code",
   "outputs": [
    {
     "data": {
      "text/plain": [
       "                                   page  \\\n",
       "0  13db0ab1-eea2-4603-84c4-f40a876c7400   \n",
       "1  92907b73-5cd3-4184-8d8c-e206aed2bf1c   \n",
       "2  61e07f64-cddf-46f2-b50c-ea0a39c22050   \n",
       "3  30e2e6c5-554a-48ed-a35f-6c6691c8ac9b   \n",
       "4  9dff71eb-b681-40c7-ac8d-68017ac36675   \n",
       "\n",
       "                                                 url  \\\n",
       "0  http://g1.globo.com/am/amazonas/noticia/2022/0...   \n",
       "1  http://g1.globo.com/pa/santarem-regiao/noticia...   \n",
       "2  http://g1.globo.com/mundo/noticia/2022/07/08/e...   \n",
       "3  http://g1.globo.com/politica/noticia/2021/09/0...   \n",
       "4  http://g1.globo.com/politica/noticia/2021/09/1...   \n",
       "\n",
       "                      issued                   modified  \\\n",
       "0  2022-06-18 20:37:45+00:00  2023-04-15 00:02:08+00:00   \n",
       "1  2019-06-20 17:19:52+00:00  2023-06-16 20:19:15+00:00   \n",
       "2  2022-07-08 08:55:52+00:00  2023-04-15 04:25:39+00:00   \n",
       "3  2021-09-09 19:06:46+00:00  2023-06-07 17:44:54+00:00   \n",
       "4  2021-09-15 19:16:13+00:00  2023-06-07 17:43:39+00:00   \n",
       "\n",
       "                                               title  \\\n",
       "0  Caso Bruno e Dom: 3º suspeito tem prisão tempo...   \n",
       "1  Linguajar dos santarenos é diferenciado e chei...   \n",
       "2  Ex-premiê Shinzo Abe morre após ser baleado no...   \n",
       "3  Relator no STF, Fachin vota contra marco tempo...   \n",
       "4  \\nApós 2 votos, pedido de vista suspende julga...   \n",
       "\n",
       "                                                body  \\\n",
       "0  Após audiência de custódia, a Justiça do Amazo...   \n",
       "1  Vista aérea de Santarém\\nÁdrio Denner/ AD Prod...   \n",
       "2  Novo vídeo mostra que assassino de Shinzo Abe ...   \n",
       "3  Relator no STF, Fachin vota contra marco tempo...   \n",
       "4  Após um pedido de vista (mais tempo para análi...   \n",
       "\n",
       "                                             caption  \n",
       "0  Jeferson da Silva Lima foi escoltado por agent...  \n",
       "1  As expressões santarenas não significam apenas...  \n",
       "2  Ex-primeiro-ministro foi atingido por tiros de...  \n",
       "3  Ministro defendeu que posse indígena é diferen...  \n",
       "4  Pelo marco temporal, índios só podem reivindic...  "
      ],
      "text/html": [
       "<div>\n",
       "<style scoped>\n",
       "    .dataframe tbody tr th:only-of-type {\n",
       "        vertical-align: middle;\n",
       "    }\n",
       "\n",
       "    .dataframe tbody tr th {\n",
       "        vertical-align: top;\n",
       "    }\n",
       "\n",
       "    .dataframe thead th {\n",
       "        text-align: right;\n",
       "    }\n",
       "</style>\n",
       "<table border=\"1\" class=\"dataframe\">\n",
       "  <thead>\n",
       "    <tr style=\"text-align: right;\">\n",
       "      <th></th>\n",
       "      <th>page</th>\n",
       "      <th>url</th>\n",
       "      <th>issued</th>\n",
       "      <th>modified</th>\n",
       "      <th>title</th>\n",
       "      <th>body</th>\n",
       "      <th>caption</th>\n",
       "    </tr>\n",
       "  </thead>\n",
       "  <tbody>\n",
       "    <tr>\n",
       "      <th>0</th>\n",
       "      <td>13db0ab1-eea2-4603-84c4-f40a876c7400</td>\n",
       "      <td>http://g1.globo.com/am/amazonas/noticia/2022/0...</td>\n",
       "      <td>2022-06-18 20:37:45+00:00</td>\n",
       "      <td>2023-04-15 00:02:08+00:00</td>\n",
       "      <td>Caso Bruno e Dom: 3º suspeito tem prisão tempo...</td>\n",
       "      <td>Após audiência de custódia, a Justiça do Amazo...</td>\n",
       "      <td>Jeferson da Silva Lima foi escoltado por agent...</td>\n",
       "    </tr>\n",
       "    <tr>\n",
       "      <th>1</th>\n",
       "      <td>92907b73-5cd3-4184-8d8c-e206aed2bf1c</td>\n",
       "      <td>http://g1.globo.com/pa/santarem-regiao/noticia...</td>\n",
       "      <td>2019-06-20 17:19:52+00:00</td>\n",
       "      <td>2023-06-16 20:19:15+00:00</td>\n",
       "      <td>Linguajar dos santarenos é diferenciado e chei...</td>\n",
       "      <td>Vista aérea de Santarém\\nÁdrio Denner/ AD Prod...</td>\n",
       "      <td>As expressões santarenas não significam apenas...</td>\n",
       "    </tr>\n",
       "    <tr>\n",
       "      <th>2</th>\n",
       "      <td>61e07f64-cddf-46f2-b50c-ea0a39c22050</td>\n",
       "      <td>http://g1.globo.com/mundo/noticia/2022/07/08/e...</td>\n",
       "      <td>2022-07-08 08:55:52+00:00</td>\n",
       "      <td>2023-04-15 04:25:39+00:00</td>\n",
       "      <td>Ex-premiê Shinzo Abe morre após ser baleado no...</td>\n",
       "      <td>Novo vídeo mostra que assassino de Shinzo Abe ...</td>\n",
       "      <td>Ex-primeiro-ministro foi atingido por tiros de...</td>\n",
       "    </tr>\n",
       "    <tr>\n",
       "      <th>3</th>\n",
       "      <td>30e2e6c5-554a-48ed-a35f-6c6691c8ac9b</td>\n",
       "      <td>http://g1.globo.com/politica/noticia/2021/09/0...</td>\n",
       "      <td>2021-09-09 19:06:46+00:00</td>\n",
       "      <td>2023-06-07 17:44:54+00:00</td>\n",
       "      <td>Relator no STF, Fachin vota contra marco tempo...</td>\n",
       "      <td>Relator no STF, Fachin vota contra marco tempo...</td>\n",
       "      <td>Ministro defendeu que posse indígena é diferen...</td>\n",
       "    </tr>\n",
       "    <tr>\n",
       "      <th>4</th>\n",
       "      <td>9dff71eb-b681-40c7-ac8d-68017ac36675</td>\n",
       "      <td>http://g1.globo.com/politica/noticia/2021/09/1...</td>\n",
       "      <td>2021-09-15 19:16:13+00:00</td>\n",
       "      <td>2023-06-07 17:43:39+00:00</td>\n",
       "      <td>\\nApós 2 votos, pedido de vista suspende julga...</td>\n",
       "      <td>Após um pedido de vista (mais tempo para análi...</td>\n",
       "      <td>Pelo marco temporal, índios só podem reivindic...</td>\n",
       "    </tr>\n",
       "  </tbody>\n",
       "</table>\n",
       "</div>"
      ]
     },
     "execution_count": 5,
     "metadata": {},
     "output_type": "execute_result"
    }
   ],
   "execution_count": 5,
   "source": [
    "news_item = pd.concat([pd.read_csv(fpath) for fpath in glob.glob('../data/raw/itens/itens/*.csv')])\n",
    "news_item.head()"
   ],
   "id": "29e95228385275d1"
  },
  {
   "metadata": {},
   "cell_type": "markdown",
   "source": "## Criando score de recencia e score de populariadade por noticia",
   "id": "e3017cffb33dd230"
  },
  {
   "metadata": {
    "ExecuteTime": {
     "end_time": "2025-02-28T19:00:18.856601Z",
     "start_time": "2025-02-28T19:00:17.246629Z"
    }
   },
   "cell_type": "code",
   "outputs": [
    {
     "ename": "KeyError",
     "evalue": "\"None of ['page'] are in the columns\"",
     "output_type": "error",
     "traceback": [
      "\u001B[31m---------------------------------------------------------------------------\u001B[39m",
      "\u001B[31mKeyError\u001B[39m                                  Traceback (most recent call last)",
      "\u001B[32m/tmp/ipykernel_133768/2136199157.py\u001B[39m in \u001B[36m?\u001B[39m\u001B[34m()\u001B[39m\n\u001B[32m      9\u001B[39m     news_item[\u001B[33m'issued'\u001B[39m].apply(calc_recency_score).fillna(\u001B[32m0\u001B[39m).values.reshape(-\u001B[32m1\u001B[39m, \u001B[32m1\u001B[39m)\n\u001B[32m     10\u001B[39m )\n\u001B[32m     11\u001B[39m \n\u001B[32m     12\u001B[39m \n\u001B[32m---> \u001B[39m\u001B[32m13\u001B[39m news_item = (news_item.set_index(\u001B[33m'page'\u001B[39m).join(count_visits_by_news, how=\u001B[33m'inner'\u001B[39m).reset_index())\n\u001B[32m     14\u001B[39m news_item.rename(columns={\u001B[33m'pageVisitsCountHistory'\u001B[39m: \u001B[33m'popularity_score'\u001B[39m}, inplace=\u001B[38;5;28;01mTrue\u001B[39;00m)\n\u001B[32m     15\u001B[39m news_item.rename(columns={\u001B[33m'index'\u001B[39m: \u001B[33m'history'\u001B[39m},inplace=\u001B[38;5;28;01mTrue\u001B[39;00m)\n\u001B[32m     16\u001B[39m news_item.head()\n",
      "\u001B[32m~/.cache/pypoetry/virtualenvs/fase-5-datathon-QcRMMR4--py3.12/lib/python3.12/site-packages/pandas/core/frame.py\u001B[39m in \u001B[36m?\u001B[39m\u001B[34m(self, keys, drop, append, inplace, verify_integrity)\u001B[39m\n\u001B[32m   6118\u001B[39m                     \u001B[38;5;28;01mif\u001B[39;00m \u001B[38;5;28;01mnot\u001B[39;00m found:\n\u001B[32m   6119\u001B[39m                         missing.append(col)\n\u001B[32m   6120\u001B[39m \n\u001B[32m   6121\u001B[39m         \u001B[38;5;28;01mif\u001B[39;00m missing:\n\u001B[32m-> \u001B[39m\u001B[32m6122\u001B[39m             \u001B[38;5;28;01mraise\u001B[39;00m KeyError(f\"None of {missing} are in the columns\")\n\u001B[32m   6123\u001B[39m \n\u001B[32m   6124\u001B[39m         \u001B[38;5;28;01mif\u001B[39;00m inplace:\n\u001B[32m   6125\u001B[39m             frame = self\n",
      "\u001B[31mKeyError\u001B[39m: \"None of ['page'] are in the columns\""
     ]
    }
   ],
   "execution_count": 16,
   "source": [
    "scaler = MinMaxScaler()\n",
    "\n",
    "\n",
    "count_visits_by_news = (user_infos\n",
    "                        .groupby('history')['pageVisitsCountHistory']\n",
    "                        .count())\n",
    "news_item['issued'] = pd.to_datetime(news_item['issued'], errors='coerce')\n",
    "news_item['recency_score'] = scaler.fit_transform(\n",
    "    news_item['issued'].apply(calc_recency_score).fillna(0).values.reshape(-1, 1)\n",
    ")\n",
    "\n",
    "\n",
    "news_item = (news_item.set_index('page').join(count_visits_by_news, how='inner').reset_index())\n",
    "news_item.rename(columns={'pageVisitsCountHistory': 'popularity_score'}, inplace=True)\n",
    "news_item.rename(columns={'index': 'history'},inplace=True)\n",
    "news_item.head()"
   ],
   "id": "27285406e14ef6ad"
  },
  {
   "metadata": {},
   "cell_type": "markdown",
   "source": "# Treinando o modelo",
   "id": "1b7f02a46315c7d"
  },
  {
   "metadata": {
    "ExecuteTime": {
     "end_time": "2025-02-28T19:00:20.567894Z",
     "start_time": "2025-02-28T19:00:20.561466Z"
    }
   },
   "cell_type": "code",
   "outputs": [],
   "execution_count": 18,
   "source": [
    "from sklearn.decomposition import TruncatedSVD\n",
    "\n",
    "\n",
    "def apply_svd(interaction_matrix, n_components=50):\n",
    "    # Fatoração de matriz esparsa com SVD truncado\n",
    "    svd = TruncatedSVD(n_components=n_components)\n",
    "    user_latent_matrix = svd.fit_transform(interaction_matrix)\n",
    "    item_latent_matrix = svd.components_.T  # Vetores latentes dos itens\n",
    "\n",
    "    # Normalizar os vetores latentes\n",
    "    user_latent_matrix = normalize(user_latent_matrix)\n",
    "    item_latent_matrix = normalize(item_latent_matrix)\n",
    "\n",
    "    return user_latent_matrix, item_latent_matrix, svd"
   ],
   "id": "69996d2d3bb7d891"
  },
  {
   "metadata": {},
   "cell_type": "markdown",
   "source": "# Criando a função de recomendação",
   "id": "28843398e2a0683e"
  },
  {
   "metadata": {
    "ExecuteTime": {
     "end_time": "2025-02-28T19:00:23.216202Z",
     "start_time": "2025-02-28T19:00:23.209326Z"
    }
   },
   "cell_type": "code",
   "outputs": [],
   "execution_count": 19,
   "source": [
    "import numpy as np\n",
    "from sklearn.metrics.pairwise import cosine_similarity\n",
    "\n",
    "\n",
    "def recommend_for_user(user_id, user_category, item_category, user_latent_matrix, item_latent_matrix, top_k=10):\n",
    "    # Obter o índice do usuário e o vetor latente correspondente\n",
    "    user_index = user_category.cat.categories.get_loc(user_id)\n",
    "\n",
    "    user_vector = user_latent_matrix[user_index].reshape(1, -1)\n",
    "\n",
    "    # Calcular a similaridade entre o usuário e todos os itens\n",
    "    similarities = cosine_similarity(user_vector, item_latent_matrix).flatten()\n",
    "\n",
    "    # Obter os índices dos itens mais similares\n",
    "    top_indices = np.argsort(-similarities)[:top_k]\n",
    "\n",
    "    recommended_items = item_category.cat.categories[top_indices]\n",
    "\n",
    "    return recommended_items"
   ],
   "id": "e8982a773782a795"
  },
  {
   "metadata": {},
   "cell_type": "code",
   "outputs": [],
   "execution_count": null,
   "source": "user_latent_matrix, item_latent_matrix,_ = apply_svd(interaction_matrix, n_components=50)",
   "id": "22eaf114c0c4bec5"
  },
  {
   "metadata": {
    "ExecuteTime": {
     "end_time": "2025-02-28T18:59:45.263920113Z",
     "start_time": "2025-02-28T18:46:26.647838Z"
    }
   },
   "cell_type": "code",
   "source": [
    "user_id = 'ec1639851d99586c7f4da928deb49187303aec6e3b8d66c0359d4920e3c105e6'  # Exemplo de ID de usuário\n",
    "\n",
    "recomendacoes = recommend_for_user(user_id, user_id_category, history_id_category, user_latent_matrix, interaction_matrix, top_k=10)\n",
    "\n",
    "\n",
    "filtros = [\n",
    "    'b7b90e18-7613-4ca0-a8fc-fd69addfcd85',\n",
    "    '835fdd8c-30e6-46f7-9958-9ac8867bdf05',\n",
    "    'dbe79e5d-6364-4efa-bba0-d22c880a073a',\n",
    "    'bfc8ed3d-1cac-4f73-a978-e42e8013b325',\n",
    "    'a433fd47-ed48-4f96-ba2a-961bd99a301b',\n",
    "    '9971bdc4-7a95-45e4-a087-83ff44baa7f5',#Ignorar esse, ele é mais para teste\n",
    "    '9c9a6c75-be7b-49dc-9c22-f6a76e46c3df' #Ignorar esse, ele é mais para teste\n",
    "]\n",
    "\n",
    "news_item.set_index('history').loc[recomendacoes].query(\"index in @filtros\")\n",
    "\n"
   ],
   "id": "428b325053adb305",
   "outputs": [
    {
     "data": {
      "text/plain": [
       "Empty DataFrame\n",
       "Columns: [url, issued, modified, title, body, caption, recency_score, popularity_score]\n",
       "Index: []"
      ],
      "text/html": [
       "<div>\n",
       "<style scoped>\n",
       "    .dataframe tbody tr th:only-of-type {\n",
       "        vertical-align: middle;\n",
       "    }\n",
       "\n",
       "    .dataframe tbody tr th {\n",
       "        vertical-align: top;\n",
       "    }\n",
       "\n",
       "    .dataframe thead th {\n",
       "        text-align: right;\n",
       "    }\n",
       "</style>\n",
       "<table border=\"1\" class=\"dataframe\">\n",
       "  <thead>\n",
       "    <tr style=\"text-align: right;\">\n",
       "      <th></th>\n",
       "      <th>url</th>\n",
       "      <th>issued</th>\n",
       "      <th>modified</th>\n",
       "      <th>title</th>\n",
       "      <th>body</th>\n",
       "      <th>caption</th>\n",
       "      <th>recency_score</th>\n",
       "      <th>popularity_score</th>\n",
       "    </tr>\n",
       "  </thead>\n",
       "  <tbody>\n",
       "  </tbody>\n",
       "</table>\n",
       "</div>"
      ]
     },
     "execution_count": 229,
     "metadata": {},
     "output_type": "execute_result"
    }
   ],
   "execution_count": 229
  },
  {
   "metadata": {
    "ExecuteTime": {
     "end_time": "2025-02-28T18:54:21.581802013Z",
     "start_time": "2025-02-28T18:41:12.390098Z"
    }
   },
   "cell_type": "code",
   "source": "user_infos.query(\"userId == 'ec1639851d99586c7f4da928deb49187303aec6e3b8d66c0359d4920e3c105e6' and history in @filtros\")",
   "id": "fd6a37812350022",
   "outputs": [
    {
     "data": {
      "text/plain": [
       "                                                    userId  \\\n",
       "6406021  ec1639851d99586c7f4da928deb49187303aec6e3b8d66...   \n",
       "\n",
       "                                      history  timestampHistory  \\\n",
       "6406021  9971bdc4-7a95-45e4-a087-83ff44baa7f5     1657080433285   \n",
       "\n",
       "         numberOfClicksHistory  timeOnPageHistory  scrollPercentageHistory  \\\n",
       "6406021                      0              59536                    60.41   \n",
       "\n",
       "         pageVisitsCountHistory timestampHistory_new  interaction_score  \n",
       "6406021                       1        1657080433285          11913.541  "
      ],
      "text/html": [
       "<div>\n",
       "<style scoped>\n",
       "    .dataframe tbody tr th:only-of-type {\n",
       "        vertical-align: middle;\n",
       "    }\n",
       "\n",
       "    .dataframe tbody tr th {\n",
       "        vertical-align: top;\n",
       "    }\n",
       "\n",
       "    .dataframe thead th {\n",
       "        text-align: right;\n",
       "    }\n",
       "</style>\n",
       "<table border=\"1\" class=\"dataframe\">\n",
       "  <thead>\n",
       "    <tr style=\"text-align: right;\">\n",
       "      <th></th>\n",
       "      <th>userId</th>\n",
       "      <th>history</th>\n",
       "      <th>timestampHistory</th>\n",
       "      <th>numberOfClicksHistory</th>\n",
       "      <th>timeOnPageHistory</th>\n",
       "      <th>scrollPercentageHistory</th>\n",
       "      <th>pageVisitsCountHistory</th>\n",
       "      <th>timestampHistory_new</th>\n",
       "      <th>interaction_score</th>\n",
       "    </tr>\n",
       "  </thead>\n",
       "  <tbody>\n",
       "    <tr>\n",
       "      <th>6406021</th>\n",
       "      <td>ec1639851d99586c7f4da928deb49187303aec6e3b8d66...</td>\n",
       "      <td>9971bdc4-7a95-45e4-a087-83ff44baa7f5</td>\n",
       "      <td>1657080433285</td>\n",
       "      <td>0</td>\n",
       "      <td>59536</td>\n",
       "      <td>60.41</td>\n",
       "      <td>1</td>\n",
       "      <td>1657080433285</td>\n",
       "      <td>11913.541</td>\n",
       "    </tr>\n",
       "  </tbody>\n",
       "</table>\n",
       "</div>"
      ]
     },
     "execution_count": 227,
     "metadata": {},
     "output_type": "execute_result"
    }
   ],
   "execution_count": 227
  },
  {
   "metadata": {},
   "cell_type": "markdown",
   "source": "# Salvando dados no datawarehorse",
   "id": "606b29416aa3d840"
  },
  {
   "metadata": {
    "ExecuteTime": {
     "end_time": "2025-02-28T18:54:21.582886776Z",
     "start_time": "2025-02-28T18:41:12.765515Z"
    }
   },
   "cell_type": "code",
   "source": [
    "from sqlalchemy import create_engine\n",
    "\n",
    "# 💾 Salvar no SQLite\n",
    "engine = create_engine('sqlite:///../data/refined/datawarehouse.db', echo=False)\n",
    "\n",
    "# Salvar os DataFrames no banco de dados\n",
    "user_infos.to_sql('merged_data', con=engine, if_exists='replace', index=False)\n",
    "news_item.to_sql('news_item', con=engine, if_exists='replace', index=False)"
   ],
   "id": "8862d46341a98ed",
   "outputs": [
    {
     "ename": "PendingRollbackError",
     "evalue": "Can't reconnect until invalid transaction is rolled back.  Please rollback() fully before proceeding (Background on this error at: https://sqlalche.me/e/20/8s2b)",
     "output_type": "error",
     "traceback": [
      "\u001B[31m---------------------------------------------------------------------------\u001B[39m",
      "\u001B[31mPendingRollbackError\u001B[39m                      Traceback (most recent call last)",
      "\u001B[36mCell\u001B[39m\u001B[36m \u001B[39m\u001B[32mIn[228]\u001B[39m\u001B[32m, line 8\u001B[39m\n\u001B[32m      6\u001B[39m \u001B[38;5;66;03m# Salvar os DataFrames no banco de dados\u001B[39;00m\n\u001B[32m      7\u001B[39m user_item.to_sql(\u001B[33m'\u001B[39m\u001B[33mmerged_data\u001B[39m\u001B[33m'\u001B[39m, con=engine, if_exists=\u001B[33m'\u001B[39m\u001B[33mreplace\u001B[39m\u001B[33m'\u001B[39m, index=\u001B[38;5;28;01mFalse\u001B[39;00m)\n\u001B[32m----> \u001B[39m\u001B[32m8\u001B[39m \u001B[43mnews_item\u001B[49m\u001B[43m.\u001B[49m\u001B[43mto_sql\u001B[49m\u001B[43m(\u001B[49m\u001B[33;43m'\u001B[39;49m\u001B[33;43mnews_item\u001B[39;49m\u001B[33;43m'\u001B[39;49m\u001B[43m,\u001B[49m\u001B[43m \u001B[49m\u001B[43mcon\u001B[49m\u001B[43m=\u001B[49m\u001B[43mengine\u001B[49m\u001B[43m,\u001B[49m\u001B[43m \u001B[49m\u001B[43mif_exists\u001B[49m\u001B[43m=\u001B[49m\u001B[33;43m'\u001B[39;49m\u001B[33;43mreplace\u001B[39;49m\u001B[33;43m'\u001B[39;49m\u001B[43m,\u001B[49m\u001B[43m \u001B[49m\u001B[43mindex\u001B[49m\u001B[43m=\u001B[49m\u001B[38;5;28;43;01mFalse\u001B[39;49;00m\u001B[43m)\u001B[49m\n",
      "\u001B[36mFile \u001B[39m\u001B[32m~/.cache/pypoetry/virtualenvs/fase-5-datathon-QcRMMR4--py3.12/lib/python3.12/site-packages/pandas/util/_decorators.py:333\u001B[39m, in \u001B[36mdeprecate_nonkeyword_arguments.<locals>.decorate.<locals>.wrapper\u001B[39m\u001B[34m(*args, **kwargs)\u001B[39m\n\u001B[32m    327\u001B[39m \u001B[38;5;28;01mif\u001B[39;00m \u001B[38;5;28mlen\u001B[39m(args) > num_allow_args:\n\u001B[32m    328\u001B[39m     warnings.warn(\n\u001B[32m    329\u001B[39m         msg.format(arguments=_format_argument_list(allow_args)),\n\u001B[32m    330\u001B[39m         \u001B[38;5;167;01mFutureWarning\u001B[39;00m,\n\u001B[32m    331\u001B[39m         stacklevel=find_stack_level(),\n\u001B[32m    332\u001B[39m     )\n\u001B[32m--> \u001B[39m\u001B[32m333\u001B[39m \u001B[38;5;28;01mreturn\u001B[39;00m \u001B[43mfunc\u001B[49m\u001B[43m(\u001B[49m\u001B[43m*\u001B[49m\u001B[43margs\u001B[49m\u001B[43m,\u001B[49m\u001B[43m \u001B[49m\u001B[43m*\u001B[49m\u001B[43m*\u001B[49m\u001B[43mkwargs\u001B[49m\u001B[43m)\u001B[49m\n",
      "\u001B[36mFile \u001B[39m\u001B[32m~/.cache/pypoetry/virtualenvs/fase-5-datathon-QcRMMR4--py3.12/lib/python3.12/site-packages/pandas/core/generic.py:3087\u001B[39m, in \u001B[36mNDFrame.to_sql\u001B[39m\u001B[34m(self, name, con, schema, if_exists, index, index_label, chunksize, dtype, method)\u001B[39m\n\u001B[32m   2889\u001B[39m \u001B[38;5;250m\u001B[39m\u001B[33;03m\"\"\"\u001B[39;00m\n\u001B[32m   2890\u001B[39m \u001B[33;03mWrite records stored in a DataFrame to a SQL database.\u001B[39;00m\n\u001B[32m   2891\u001B[39m \n\u001B[32m   (...)\u001B[39m\u001B[32m   3083\u001B[39m \u001B[33;03m[(1,), (None,), (2,)]\u001B[39;00m\n\u001B[32m   3084\u001B[39m \u001B[33;03m\"\"\"\u001B[39;00m  \u001B[38;5;66;03m# noqa: E501\u001B[39;00m\n\u001B[32m   3085\u001B[39m \u001B[38;5;28;01mfrom\u001B[39;00m\u001B[38;5;250m \u001B[39m\u001B[34;01mpandas\u001B[39;00m\u001B[34;01m.\u001B[39;00m\u001B[34;01mio\u001B[39;00m\u001B[38;5;250m \u001B[39m\u001B[38;5;28;01mimport\u001B[39;00m sql\n\u001B[32m-> \u001B[39m\u001B[32m3087\u001B[39m \u001B[38;5;28;01mreturn\u001B[39;00m \u001B[43msql\u001B[49m\u001B[43m.\u001B[49m\u001B[43mto_sql\u001B[49m\u001B[43m(\u001B[49m\n\u001B[32m   3088\u001B[39m \u001B[43m    \u001B[49m\u001B[38;5;28;43mself\u001B[39;49m\u001B[43m,\u001B[49m\n\u001B[32m   3089\u001B[39m \u001B[43m    \u001B[49m\u001B[43mname\u001B[49m\u001B[43m,\u001B[49m\n\u001B[32m   3090\u001B[39m \u001B[43m    \u001B[49m\u001B[43mcon\u001B[49m\u001B[43m,\u001B[49m\n\u001B[32m   3091\u001B[39m \u001B[43m    \u001B[49m\u001B[43mschema\u001B[49m\u001B[43m=\u001B[49m\u001B[43mschema\u001B[49m\u001B[43m,\u001B[49m\n\u001B[32m   3092\u001B[39m \u001B[43m    \u001B[49m\u001B[43mif_exists\u001B[49m\u001B[43m=\u001B[49m\u001B[43mif_exists\u001B[49m\u001B[43m,\u001B[49m\n\u001B[32m   3093\u001B[39m \u001B[43m    \u001B[49m\u001B[43mindex\u001B[49m\u001B[43m=\u001B[49m\u001B[43mindex\u001B[49m\u001B[43m,\u001B[49m\n\u001B[32m   3094\u001B[39m \u001B[43m    \u001B[49m\u001B[43mindex_label\u001B[49m\u001B[43m=\u001B[49m\u001B[43mindex_label\u001B[49m\u001B[43m,\u001B[49m\n\u001B[32m   3095\u001B[39m \u001B[43m    \u001B[49m\u001B[43mchunksize\u001B[49m\u001B[43m=\u001B[49m\u001B[43mchunksize\u001B[49m\u001B[43m,\u001B[49m\n\u001B[32m   3096\u001B[39m \u001B[43m    \u001B[49m\u001B[43mdtype\u001B[49m\u001B[43m=\u001B[49m\u001B[43mdtype\u001B[49m\u001B[43m,\u001B[49m\n\u001B[32m   3097\u001B[39m \u001B[43m    \u001B[49m\u001B[43mmethod\u001B[49m\u001B[43m=\u001B[49m\u001B[43mmethod\u001B[49m\u001B[43m,\u001B[49m\n\u001B[32m   3098\u001B[39m \u001B[43m\u001B[49m\u001B[43m)\u001B[49m\n",
      "\u001B[36mFile \u001B[39m\u001B[32m~/.cache/pypoetry/virtualenvs/fase-5-datathon-QcRMMR4--py3.12/lib/python3.12/site-packages/pandas/io/sql.py:841\u001B[39m, in \u001B[36mto_sql\u001B[39m\u001B[34m(frame, name, con, schema, if_exists, index, index_label, chunksize, dtype, method, engine, **engine_kwargs)\u001B[39m\n\u001B[32m    836\u001B[39m \u001B[38;5;28;01melif\u001B[39;00m \u001B[38;5;129;01mnot\u001B[39;00m \u001B[38;5;28misinstance\u001B[39m(frame, DataFrame):\n\u001B[32m    837\u001B[39m     \u001B[38;5;28;01mraise\u001B[39;00m \u001B[38;5;167;01mNotImplementedError\u001B[39;00m(\n\u001B[32m    838\u001B[39m         \u001B[33m\"\u001B[39m\u001B[33m'\u001B[39m\u001B[33mframe\u001B[39m\u001B[33m'\u001B[39m\u001B[33m argument should be either a Series or a DataFrame\u001B[39m\u001B[33m\"\u001B[39m\n\u001B[32m    839\u001B[39m     )\n\u001B[32m--> \u001B[39m\u001B[32m841\u001B[39m \u001B[38;5;28;01mwith\u001B[39;00m pandasSQL_builder(con, schema=schema, need_transaction=\u001B[38;5;28;01mTrue\u001B[39;00m) \u001B[38;5;28;01mas\u001B[39;00m pandas_sql:\n\u001B[32m    842\u001B[39m     \u001B[38;5;28;01mreturn\u001B[39;00m pandas_sql.to_sql(\n\u001B[32m    843\u001B[39m         frame,\n\u001B[32m    844\u001B[39m         name,\n\u001B[32m   (...)\u001B[39m\u001B[32m    853\u001B[39m         **engine_kwargs,\n\u001B[32m    854\u001B[39m     )\n",
      "\u001B[36mFile \u001B[39m\u001B[32m~/.cache/pypoetry/virtualenvs/fase-5-datathon-QcRMMR4--py3.12/lib/python3.12/site-packages/pandas/io/sql.py:1645\u001B[39m, in \u001B[36mSQLDatabase.__exit__\u001B[39m\u001B[34m(self, *args)\u001B[39m\n\u001B[32m   1643\u001B[39m \u001B[38;5;28;01mdef\u001B[39;00m\u001B[38;5;250m \u001B[39m\u001B[34m__exit__\u001B[39m(\u001B[38;5;28mself\u001B[39m, *args) -> \u001B[38;5;28;01mNone\u001B[39;00m:\n\u001B[32m   1644\u001B[39m     \u001B[38;5;28;01mif\u001B[39;00m \u001B[38;5;129;01mnot\u001B[39;00m \u001B[38;5;28mself\u001B[39m.returns_generator:\n\u001B[32m-> \u001B[39m\u001B[32m1645\u001B[39m         \u001B[38;5;28;43mself\u001B[39;49m\u001B[43m.\u001B[49m\u001B[43mexit_stack\u001B[49m\u001B[43m.\u001B[49m\u001B[43mclose\u001B[49m\u001B[43m(\u001B[49m\u001B[43m)\u001B[49m\n",
      "\u001B[36mFile \u001B[39m\u001B[32m/usr/lib/python3.12/contextlib.py:618\u001B[39m, in \u001B[36mExitStack.close\u001B[39m\u001B[34m(self)\u001B[39m\n\u001B[32m    616\u001B[39m \u001B[38;5;28;01mdef\u001B[39;00m\u001B[38;5;250m \u001B[39m\u001B[34mclose\u001B[39m(\u001B[38;5;28mself\u001B[39m):\n\u001B[32m    617\u001B[39m \u001B[38;5;250m    \u001B[39m\u001B[33;03m\"\"\"Immediately unwind the context stack.\"\"\"\u001B[39;00m\n\u001B[32m--> \u001B[39m\u001B[32m618\u001B[39m     \u001B[38;5;28;43mself\u001B[39;49m\u001B[43m.\u001B[49m\u001B[34;43m__exit__\u001B[39;49m\u001B[43m(\u001B[49m\u001B[38;5;28;43;01mNone\u001B[39;49;00m\u001B[43m,\u001B[49m\u001B[43m \u001B[49m\u001B[38;5;28;43;01mNone\u001B[39;49;00m\u001B[43m,\u001B[49m\u001B[43m \u001B[49m\u001B[38;5;28;43;01mNone\u001B[39;49;00m\u001B[43m)\u001B[49m\n",
      "\u001B[36mFile \u001B[39m\u001B[32m/usr/lib/python3.12/contextlib.py:610\u001B[39m, in \u001B[36mExitStack.__exit__\u001B[39m\u001B[34m(self, *exc_details)\u001B[39m\n\u001B[32m    606\u001B[39m \u001B[38;5;28;01mtry\u001B[39;00m:\n\u001B[32m    607\u001B[39m     \u001B[38;5;66;03m# bare \"raise exc_details[1]\" replaces our carefully\u001B[39;00m\n\u001B[32m    608\u001B[39m     \u001B[38;5;66;03m# set-up context\u001B[39;00m\n\u001B[32m    609\u001B[39m     fixed_ctx = exc_details[\u001B[32m1\u001B[39m].__context__\n\u001B[32m--> \u001B[39m\u001B[32m610\u001B[39m     \u001B[38;5;28;01mraise\u001B[39;00m exc_details[\u001B[32m1\u001B[39m]\n\u001B[32m    611\u001B[39m \u001B[38;5;28;01mexcept\u001B[39;00m \u001B[38;5;167;01mBaseException\u001B[39;00m:\n\u001B[32m    612\u001B[39m     exc_details[\u001B[32m1\u001B[39m].__context__ = fixed_ctx\n",
      "\u001B[36mFile \u001B[39m\u001B[32m/usr/lib/python3.12/contextlib.py:595\u001B[39m, in \u001B[36mExitStack.__exit__\u001B[39m\u001B[34m(self, *exc_details)\u001B[39m\n\u001B[32m    593\u001B[39m \u001B[38;5;28;01massert\u001B[39;00m is_sync\n\u001B[32m    594\u001B[39m \u001B[38;5;28;01mtry\u001B[39;00m:\n\u001B[32m--> \u001B[39m\u001B[32m595\u001B[39m     \u001B[38;5;28;01mif\u001B[39;00m \u001B[43mcb\u001B[49m\u001B[43m(\u001B[49m\u001B[43m*\u001B[49m\u001B[43mexc_details\u001B[49m\u001B[43m)\u001B[49m:\n\u001B[32m    596\u001B[39m         suppressed_exc = \u001B[38;5;28;01mTrue\u001B[39;00m\n\u001B[32m    597\u001B[39m         pending_raise = \u001B[38;5;28;01mFalse\u001B[39;00m\n",
      "\u001B[36mFile \u001B[39m\u001B[32m~/.cache/pypoetry/virtualenvs/fase-5-datathon-QcRMMR4--py3.12/lib/python3.12/site-packages/sqlalchemy/engine/util.py:147\u001B[39m, in \u001B[36mTransactionalContext.__exit__\u001B[39m\u001B[34m(self, type_, value, traceback)\u001B[39m\n\u001B[32m    145\u001B[39m     \u001B[38;5;28mself\u001B[39m.commit()\n\u001B[32m    146\u001B[39m \u001B[38;5;28;01mexcept\u001B[39;00m:\n\u001B[32m--> \u001B[39m\u001B[32m147\u001B[39m \u001B[43m    \u001B[49m\u001B[38;5;28;43;01mwith\u001B[39;49;00m\u001B[43m \u001B[49m\u001B[43mutil\u001B[49m\u001B[43m.\u001B[49m\u001B[43msafe_reraise\u001B[49m\u001B[43m(\u001B[49m\u001B[43m)\u001B[49m\u001B[43m:\u001B[49m\n\u001B[32m    148\u001B[39m \u001B[43m        \u001B[49m\u001B[38;5;28;43;01mif\u001B[39;49;00m\u001B[43m \u001B[49m\u001B[38;5;28;43mself\u001B[39;49m\u001B[43m.\u001B[49m\u001B[43m_rollback_can_be_called\u001B[49m\u001B[43m(\u001B[49m\u001B[43m)\u001B[49m\u001B[43m:\u001B[49m\n\u001B[32m    149\u001B[39m \u001B[43m            \u001B[49m\u001B[38;5;28;43mself\u001B[39;49m\u001B[43m.\u001B[49m\u001B[43mrollback\u001B[49m\u001B[43m(\u001B[49m\u001B[43m)\u001B[49m\n",
      "\u001B[36mFile \u001B[39m\u001B[32m~/.cache/pypoetry/virtualenvs/fase-5-datathon-QcRMMR4--py3.12/lib/python3.12/site-packages/sqlalchemy/util/langhelpers.py:146\u001B[39m, in \u001B[36msafe_reraise.__exit__\u001B[39m\u001B[34m(self, type_, value, traceback)\u001B[39m\n\u001B[32m    144\u001B[39m     \u001B[38;5;28;01massert\u001B[39;00m exc_value \u001B[38;5;129;01mis\u001B[39;00m \u001B[38;5;129;01mnot\u001B[39;00m \u001B[38;5;28;01mNone\u001B[39;00m\n\u001B[32m    145\u001B[39m     \u001B[38;5;28mself\u001B[39m._exc_info = \u001B[38;5;28;01mNone\u001B[39;00m  \u001B[38;5;66;03m# remove potential circular references\u001B[39;00m\n\u001B[32m--> \u001B[39m\u001B[32m146\u001B[39m     \u001B[38;5;28;01mraise\u001B[39;00m exc_value.with_traceback(exc_tb)\n\u001B[32m    147\u001B[39m \u001B[38;5;28;01melse\u001B[39;00m:\n\u001B[32m    148\u001B[39m     \u001B[38;5;28mself\u001B[39m._exc_info = \u001B[38;5;28;01mNone\u001B[39;00m  \u001B[38;5;66;03m# remove potential circular references\u001B[39;00m\n",
      "\u001B[36mFile \u001B[39m\u001B[32m~/.cache/pypoetry/virtualenvs/fase-5-datathon-QcRMMR4--py3.12/lib/python3.12/site-packages/sqlalchemy/engine/util.py:145\u001B[39m, in \u001B[36mTransactionalContext.__exit__\u001B[39m\u001B[34m(self, type_, value, traceback)\u001B[39m\n\u001B[32m    143\u001B[39m \u001B[38;5;28;01mif\u001B[39;00m type_ \u001B[38;5;129;01mis\u001B[39;00m \u001B[38;5;28;01mNone\u001B[39;00m \u001B[38;5;129;01mand\u001B[39;00m \u001B[38;5;28mself\u001B[39m._transaction_is_active():\n\u001B[32m    144\u001B[39m     \u001B[38;5;28;01mtry\u001B[39;00m:\n\u001B[32m--> \u001B[39m\u001B[32m145\u001B[39m         \u001B[38;5;28;43mself\u001B[39;49m\u001B[43m.\u001B[49m\u001B[43mcommit\u001B[49m\u001B[43m(\u001B[49m\u001B[43m)\u001B[49m\n\u001B[32m    146\u001B[39m     \u001B[38;5;28;01mexcept\u001B[39;00m:\n\u001B[32m    147\u001B[39m         \u001B[38;5;28;01mwith\u001B[39;00m util.safe_reraise():\n",
      "\u001B[36mFile \u001B[39m\u001B[32m~/.cache/pypoetry/virtualenvs/fase-5-datathon-QcRMMR4--py3.12/lib/python3.12/site-packages/sqlalchemy/engine/base.py:2629\u001B[39m, in \u001B[36mTransaction.commit\u001B[39m\u001B[34m(self)\u001B[39m\n\u001B[32m   2613\u001B[39m \u001B[38;5;250m\u001B[39m\u001B[33;03m\"\"\"Commit this :class:`.Transaction`.\u001B[39;00m\n\u001B[32m   2614\u001B[39m \n\u001B[32m   2615\u001B[39m \u001B[33;03mThe implementation of this may vary based on the type of transaction in\u001B[39;00m\n\u001B[32m   (...)\u001B[39m\u001B[32m   2626\u001B[39m \n\u001B[32m   2627\u001B[39m \u001B[33;03m\"\"\"\u001B[39;00m\n\u001B[32m   2628\u001B[39m \u001B[38;5;28;01mtry\u001B[39;00m:\n\u001B[32m-> \u001B[39m\u001B[32m2629\u001B[39m     \u001B[38;5;28;43mself\u001B[39;49m\u001B[43m.\u001B[49m\u001B[43m_do_commit\u001B[49m\u001B[43m(\u001B[49m\u001B[43m)\u001B[49m\n\u001B[32m   2630\u001B[39m \u001B[38;5;28;01mfinally\u001B[39;00m:\n\u001B[32m   2631\u001B[39m     \u001B[38;5;28;01massert\u001B[39;00m \u001B[38;5;129;01mnot\u001B[39;00m \u001B[38;5;28mself\u001B[39m.is_active\n",
      "\u001B[36mFile \u001B[39m\u001B[32m~/.cache/pypoetry/virtualenvs/fase-5-datathon-QcRMMR4--py3.12/lib/python3.12/site-packages/sqlalchemy/engine/base.py:2734\u001B[39m, in \u001B[36mRootTransaction._do_commit\u001B[39m\u001B[34m(self)\u001B[39m\n\u001B[32m   2731\u001B[39m \u001B[38;5;28;01massert\u001B[39;00m \u001B[38;5;28mself\u001B[39m.connection._transaction \u001B[38;5;129;01mis\u001B[39;00m \u001B[38;5;28mself\u001B[39m\n\u001B[32m   2733\u001B[39m \u001B[38;5;28;01mtry\u001B[39;00m:\n\u001B[32m-> \u001B[39m\u001B[32m2734\u001B[39m     \u001B[38;5;28;43mself\u001B[39;49m\u001B[43m.\u001B[49m\u001B[43m_connection_commit_impl\u001B[49m\u001B[43m(\u001B[49m\u001B[43m)\u001B[49m\n\u001B[32m   2735\u001B[39m \u001B[38;5;28;01mfinally\u001B[39;00m:\n\u001B[32m   2736\u001B[39m     \u001B[38;5;66;03m# whether or not commit succeeds, cancel any\u001B[39;00m\n\u001B[32m   2737\u001B[39m     \u001B[38;5;66;03m# nested transactions, make this transaction \"inactive\"\u001B[39;00m\n\u001B[32m   2738\u001B[39m     \u001B[38;5;66;03m# and remove it as a reset agent\u001B[39;00m\n\u001B[32m   2739\u001B[39m     \u001B[38;5;28;01mif\u001B[39;00m \u001B[38;5;28mself\u001B[39m.connection._nested_transaction:\n",
      "\u001B[36mFile \u001B[39m\u001B[32m~/.cache/pypoetry/virtualenvs/fase-5-datathon-QcRMMR4--py3.12/lib/python3.12/site-packages/sqlalchemy/engine/base.py:2705\u001B[39m, in \u001B[36mRootTransaction._connection_commit_impl\u001B[39m\u001B[34m(self)\u001B[39m\n\u001B[32m   2704\u001B[39m \u001B[38;5;28;01mdef\u001B[39;00m\u001B[38;5;250m \u001B[39m\u001B[34m_connection_commit_impl\u001B[39m(\u001B[38;5;28mself\u001B[39m) -> \u001B[38;5;28;01mNone\u001B[39;00m:\n\u001B[32m-> \u001B[39m\u001B[32m2705\u001B[39m     \u001B[38;5;28;43mself\u001B[39;49m\u001B[43m.\u001B[49m\u001B[43mconnection\u001B[49m\u001B[43m.\u001B[49m\u001B[43m_commit_impl\u001B[49m\u001B[43m(\u001B[49m\u001B[43m)\u001B[49m\n",
      "\u001B[36mFile \u001B[39m\u001B[32m~/.cache/pypoetry/virtualenvs/fase-5-datathon-QcRMMR4--py3.12/lib/python3.12/site-packages/sqlalchemy/engine/base.py:1144\u001B[39m, in \u001B[36mConnection._commit_impl\u001B[39m\u001B[34m(self)\u001B[39m\n\u001B[32m   1142\u001B[39m     \u001B[38;5;28mself\u001B[39m.engine.dialect.do_commit(\u001B[38;5;28mself\u001B[39m.connection)\n\u001B[32m   1143\u001B[39m \u001B[38;5;28;01mexcept\u001B[39;00m \u001B[38;5;167;01mBaseException\u001B[39;00m \u001B[38;5;28;01mas\u001B[39;00m e:\n\u001B[32m-> \u001B[39m\u001B[32m1144\u001B[39m     \u001B[38;5;28;43mself\u001B[39;49m\u001B[43m.\u001B[49m\u001B[43m_handle_dbapi_exception\u001B[49m\u001B[43m(\u001B[49m\u001B[43me\u001B[49m\u001B[43m,\u001B[49m\u001B[43m \u001B[49m\u001B[38;5;28;43;01mNone\u001B[39;49;00m\u001B[43m,\u001B[49m\u001B[43m \u001B[49m\u001B[38;5;28;43;01mNone\u001B[39;49;00m\u001B[43m,\u001B[49m\u001B[43m \u001B[49m\u001B[38;5;28;43;01mNone\u001B[39;49;00m\u001B[43m,\u001B[49m\u001B[43m \u001B[49m\u001B[38;5;28;43;01mNone\u001B[39;49;00m\u001B[43m)\u001B[49m\n",
      "\u001B[36mFile \u001B[39m\u001B[32m~/.cache/pypoetry/virtualenvs/fase-5-datathon-QcRMMR4--py3.12/lib/python3.12/site-packages/sqlalchemy/engine/base.py:2355\u001B[39m, in \u001B[36mConnection._handle_dbapi_exception\u001B[39m\u001B[34m(self, e, statement, parameters, cursor, context, is_sub_exec)\u001B[39m\n\u001B[32m   2353\u001B[39m     \u001B[38;5;28;01melse\u001B[39;00m:\n\u001B[32m   2354\u001B[39m         \u001B[38;5;28;01massert\u001B[39;00m exc_info[\u001B[32m1\u001B[39m] \u001B[38;5;129;01mis\u001B[39;00m \u001B[38;5;129;01mnot\u001B[39;00m \u001B[38;5;28;01mNone\u001B[39;00m\n\u001B[32m-> \u001B[39m\u001B[32m2355\u001B[39m         \u001B[38;5;28;01mraise\u001B[39;00m exc_info[\u001B[32m1\u001B[39m].with_traceback(exc_info[\u001B[32m2\u001B[39m])\n\u001B[32m   2356\u001B[39m \u001B[38;5;28;01mfinally\u001B[39;00m:\n\u001B[32m   2357\u001B[39m     \u001B[38;5;28;01mdel\u001B[39;00m \u001B[38;5;28mself\u001B[39m._reentrant_error\n",
      "\u001B[36mFile \u001B[39m\u001B[32m~/.cache/pypoetry/virtualenvs/fase-5-datathon-QcRMMR4--py3.12/lib/python3.12/site-packages/sqlalchemy/engine/base.py:1142\u001B[39m, in \u001B[36mConnection._commit_impl\u001B[39m\u001B[34m(self)\u001B[39m\n\u001B[32m   1140\u001B[39m         \u001B[38;5;28mself\u001B[39m._log_info(\u001B[33m\"\u001B[39m\u001B[33mCOMMIT\u001B[39m\u001B[33m\"\u001B[39m)\n\u001B[32m   1141\u001B[39m \u001B[38;5;28;01mtry\u001B[39;00m:\n\u001B[32m-> \u001B[39m\u001B[32m1142\u001B[39m     \u001B[38;5;28mself\u001B[39m.engine.dialect.do_commit(\u001B[38;5;28;43mself\u001B[39;49m\u001B[43m.\u001B[49m\u001B[43mconnection\u001B[49m)\n\u001B[32m   1143\u001B[39m \u001B[38;5;28;01mexcept\u001B[39;00m \u001B[38;5;167;01mBaseException\u001B[39;00m \u001B[38;5;28;01mas\u001B[39;00m e:\n\u001B[32m   1144\u001B[39m     \u001B[38;5;28mself\u001B[39m._handle_dbapi_exception(e, \u001B[38;5;28;01mNone\u001B[39;00m, \u001B[38;5;28;01mNone\u001B[39;00m, \u001B[38;5;28;01mNone\u001B[39;00m, \u001B[38;5;28;01mNone\u001B[39;00m)\n",
      "\u001B[36mFile \u001B[39m\u001B[32m~/.cache/pypoetry/virtualenvs/fase-5-datathon-QcRMMR4--py3.12/lib/python3.12/site-packages/sqlalchemy/engine/base.py:584\u001B[39m, in \u001B[36mConnection.connection\u001B[39m\u001B[34m(self)\u001B[39m\n\u001B[32m    582\u001B[39m \u001B[38;5;28;01mif\u001B[39;00m \u001B[38;5;28mself\u001B[39m._dbapi_connection \u001B[38;5;129;01mis\u001B[39;00m \u001B[38;5;28;01mNone\u001B[39;00m:\n\u001B[32m    583\u001B[39m     \u001B[38;5;28;01mtry\u001B[39;00m:\n\u001B[32m--> \u001B[39m\u001B[32m584\u001B[39m         \u001B[38;5;28;01mreturn\u001B[39;00m \u001B[38;5;28;43mself\u001B[39;49m\u001B[43m.\u001B[49m\u001B[43m_revalidate_connection\u001B[49m\u001B[43m(\u001B[49m\u001B[43m)\u001B[49m\n\u001B[32m    585\u001B[39m     \u001B[38;5;28;01mexcept\u001B[39;00m (exc.PendingRollbackError, exc.ResourceClosedError):\n\u001B[32m    586\u001B[39m         \u001B[38;5;28;01mraise\u001B[39;00m\n",
      "\u001B[36mFile \u001B[39m\u001B[32m~/.cache/pypoetry/virtualenvs/fase-5-datathon-QcRMMR4--py3.12/lib/python3.12/site-packages/sqlalchemy/engine/base.py:676\u001B[39m, in \u001B[36mConnection._revalidate_connection\u001B[39m\u001B[34m(self)\u001B[39m\n\u001B[32m    674\u001B[39m \u001B[38;5;28;01mif\u001B[39;00m \u001B[38;5;28mself\u001B[39m.__can_reconnect \u001B[38;5;129;01mand\u001B[39;00m \u001B[38;5;28mself\u001B[39m.invalidated:\n\u001B[32m    675\u001B[39m     \u001B[38;5;28;01mif\u001B[39;00m \u001B[38;5;28mself\u001B[39m._transaction \u001B[38;5;129;01mis\u001B[39;00m \u001B[38;5;129;01mnot\u001B[39;00m \u001B[38;5;28;01mNone\u001B[39;00m:\n\u001B[32m--> \u001B[39m\u001B[32m676\u001B[39m         \u001B[38;5;28;43mself\u001B[39;49m\u001B[43m.\u001B[49m\u001B[43m_invalid_transaction\u001B[49m\u001B[43m(\u001B[49m\u001B[43m)\u001B[49m\n\u001B[32m    677\u001B[39m     \u001B[38;5;28mself\u001B[39m._dbapi_connection = \u001B[38;5;28mself\u001B[39m.engine.raw_connection()\n\u001B[32m    678\u001B[39m     \u001B[38;5;28;01mreturn\u001B[39;00m \u001B[38;5;28mself\u001B[39m._dbapi_connection\n",
      "\u001B[36mFile \u001B[39m\u001B[32m~/.cache/pypoetry/virtualenvs/fase-5-datathon-QcRMMR4--py3.12/lib/python3.12/site-packages/sqlalchemy/engine/base.py:666\u001B[39m, in \u001B[36mConnection._invalid_transaction\u001B[39m\u001B[34m(self)\u001B[39m\n\u001B[32m    665\u001B[39m \u001B[38;5;28;01mdef\u001B[39;00m\u001B[38;5;250m \u001B[39m\u001B[34m_invalid_transaction\u001B[39m(\u001B[38;5;28mself\u001B[39m) -> NoReturn:\n\u001B[32m--> \u001B[39m\u001B[32m666\u001B[39m     \u001B[38;5;28;01mraise\u001B[39;00m exc.PendingRollbackError(\n\u001B[32m    667\u001B[39m         \u001B[33m\"\u001B[39m\u001B[33mCan\u001B[39m\u001B[33m'\u001B[39m\u001B[33mt reconnect until invalid \u001B[39m\u001B[38;5;132;01m%s\u001B[39;00m\u001B[33mtransaction is rolled \u001B[39m\u001B[33m\"\u001B[39m\n\u001B[32m    668\u001B[39m         \u001B[33m\"\u001B[39m\u001B[33mback.  Please rollback() fully before proceeding\u001B[39m\u001B[33m\"\u001B[39m\n\u001B[32m    669\u001B[39m         % (\u001B[33m\"\u001B[39m\u001B[33msavepoint \u001B[39m\u001B[33m\"\u001B[39m \u001B[38;5;28;01mif\u001B[39;00m \u001B[38;5;28mself\u001B[39m._nested_transaction \u001B[38;5;129;01mis\u001B[39;00m \u001B[38;5;129;01mnot\u001B[39;00m \u001B[38;5;28;01mNone\u001B[39;00m \u001B[38;5;28;01melse\u001B[39;00m \u001B[33m\"\u001B[39m\u001B[33m\"\u001B[39m),\n\u001B[32m    670\u001B[39m         code=\u001B[33m\"\u001B[39m\u001B[33m8s2b\u001B[39m\u001B[33m\"\u001B[39m,\n\u001B[32m    671\u001B[39m     )\n",
      "\u001B[31mPendingRollbackError\u001B[39m: Can't reconnect until invalid transaction is rolled back.  Please rollback() fully before proceeding (Background on this error at: https://sqlalche.me/e/20/8s2b)"
     ]
    }
   ],
   "execution_count": 228
  }
 ],
 "metadata": {
  "kernelspec": {
   "display_name": "Python 3",
   "language": "python",
   "name": "python3"
  },
  "language_info": {
   "codemirror_mode": {
    "name": "ipython",
    "version": 2
   },
   "file_extension": ".py",
   "mimetype": "text/x-python",
   "name": "python",
   "nbconvert_exporter": "python",
   "pygments_lexer": "ipython2",
   "version": "2.7.6"
  }
 },
 "nbformat": 4,
 "nbformat_minor": 5
}
