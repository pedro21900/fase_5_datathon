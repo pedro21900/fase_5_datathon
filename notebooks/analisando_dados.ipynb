{
 "cells": [
  {
   "cell_type": "code",
   "id": "initial_id",
   "metadata": {
    "collapsed": true,
    "ExecuteTime": {
     "end_time": "2025-02-25T19:50:44.258487Z",
     "start_time": "2025-02-25T19:50:44.256632Z"
    }
   },
   "source": [
    "import pandas as pd\n",
    "import glob"
   ],
   "outputs": [],
   "execution_count": 15
  },
  {
   "metadata": {
    "ExecuteTime": {
     "end_time": "2025-02-25T19:50:50.112733Z",
     "start_time": "2025-02-25T19:50:46.103810Z"
    }
   },
   "cell_type": "code",
   "source": "user_infos = pd.concat([pd.read_csv(fpath) for fpath in glob.glob('../data/files/treino/*.csv')])",
   "id": "68d54b3e7606d404",
   "outputs": [],
   "execution_count": 16
  },
  {
   "metadata": {
    "ExecuteTime": {
     "end_time": "2025-02-25T20:17:35.059845Z",
     "start_time": "2025-02-25T20:16:48.717979Z"
    }
   },
   "cell_type": "code",
   "source": [
    "user_historys = user_infos[['userId', 'history','timestampHistory','numberOfClicksHistory','timeOnPageHistory','scrollPercentageHistory','pageVisitsCountHistory','timestampHistory_new']]\n",
    "user_historys = user_historys.set_index('userId').apply(lambda row: row.str.split(','), axis=1)\n",
    "user_historys = user_historys.apply(pd.Series.explode).reset_index()\n",
    "user_historys['numberOfClicksHistory'] = user_historys['numberOfClicksHistory'].astype(int)\n",
    "user_historys.head()"
   ],
   "id": "e3c9b5a1e6281abf",
   "outputs": [
    {
     "data": {
      "text/plain": [
       "                                              userId  \\\n",
       "0  e5f68d5e7cdbe56d6984589b4baa6ebfc5e8a8a918e57d...   \n",
       "1  e5f68d5e7cdbe56d6984589b4baa6ebfc5e8a8a918e57d...   \n",
       "2  e5f68d5e7cdbe56d6984589b4baa6ebfc5e8a8a918e57d...   \n",
       "3  e5f68d5e7cdbe56d6984589b4baa6ebfc5e8a8a918e57d...   \n",
       "4  e5f68d5e7cdbe56d6984589b4baa6ebfc5e8a8a918e57d...   \n",
       "\n",
       "                                 history timestampHistory  \\\n",
       "0   50028008-aa11-4519-9d75-452c84dd27fb    1657264136826   \n",
       "1   d031af1b-f939-47c1-a589-e6d691b66d91    1657552410329   \n",
       "2   bf257382-74fb-4392-ad6a-143240e39f81    1657552529759   \n",
       "3   66a9efac-fd43-4fd1-9824-c404b08efa5d    1657632476730   \n",
       "4   7a349b09-badc-40a9-a194-83d959aeb50c    1657632495643   \n",
       "\n",
       "   numberOfClicksHistory timeOnPageHistory scrollPercentageHistory  \\\n",
       "0                      4             10081                   16.34   \n",
       "1                     41             70000                   79.35   \n",
       "2                      6             12216                   13.36   \n",
       "3                      0             90000                   37.95   \n",
       "4                      0            161291                   73.83   \n",
       "\n",
       "  pageVisitsCountHistory timestampHistory_new  \n",
       "0                      1        1657264136826  \n",
       "1                      1        1657552410329  \n",
       "2                      1        1657552529759  \n",
       "3                      1        1657632476730  \n",
       "4                      1        1657632495643  "
      ],
      "text/html": [
       "<div>\n",
       "<style scoped>\n",
       "    .dataframe tbody tr th:only-of-type {\n",
       "        vertical-align: middle;\n",
       "    }\n",
       "\n",
       "    .dataframe tbody tr th {\n",
       "        vertical-align: top;\n",
       "    }\n",
       "\n",
       "    .dataframe thead th {\n",
       "        text-align: right;\n",
       "    }\n",
       "</style>\n",
       "<table border=\"1\" class=\"dataframe\">\n",
       "  <thead>\n",
       "    <tr style=\"text-align: right;\">\n",
       "      <th></th>\n",
       "      <th>userId</th>\n",
       "      <th>history</th>\n",
       "      <th>timestampHistory</th>\n",
       "      <th>numberOfClicksHistory</th>\n",
       "      <th>timeOnPageHistory</th>\n",
       "      <th>scrollPercentageHistory</th>\n",
       "      <th>pageVisitsCountHistory</th>\n",
       "      <th>timestampHistory_new</th>\n",
       "    </tr>\n",
       "  </thead>\n",
       "  <tbody>\n",
       "    <tr>\n",
       "      <th>0</th>\n",
       "      <td>e5f68d5e7cdbe56d6984589b4baa6ebfc5e8a8a918e57d...</td>\n",
       "      <td>50028008-aa11-4519-9d75-452c84dd27fb</td>\n",
       "      <td>1657264136826</td>\n",
       "      <td>4</td>\n",
       "      <td>10081</td>\n",
       "      <td>16.34</td>\n",
       "      <td>1</td>\n",
       "      <td>1657264136826</td>\n",
       "    </tr>\n",
       "    <tr>\n",
       "      <th>1</th>\n",
       "      <td>e5f68d5e7cdbe56d6984589b4baa6ebfc5e8a8a918e57d...</td>\n",
       "      <td>d031af1b-f939-47c1-a589-e6d691b66d91</td>\n",
       "      <td>1657552410329</td>\n",
       "      <td>41</td>\n",
       "      <td>70000</td>\n",
       "      <td>79.35</td>\n",
       "      <td>1</td>\n",
       "      <td>1657552410329</td>\n",
       "    </tr>\n",
       "    <tr>\n",
       "      <th>2</th>\n",
       "      <td>e5f68d5e7cdbe56d6984589b4baa6ebfc5e8a8a918e57d...</td>\n",
       "      <td>bf257382-74fb-4392-ad6a-143240e39f81</td>\n",
       "      <td>1657552529759</td>\n",
       "      <td>6</td>\n",
       "      <td>12216</td>\n",
       "      <td>13.36</td>\n",
       "      <td>1</td>\n",
       "      <td>1657552529759</td>\n",
       "    </tr>\n",
       "    <tr>\n",
       "      <th>3</th>\n",
       "      <td>e5f68d5e7cdbe56d6984589b4baa6ebfc5e8a8a918e57d...</td>\n",
       "      <td>66a9efac-fd43-4fd1-9824-c404b08efa5d</td>\n",
       "      <td>1657632476730</td>\n",
       "      <td>0</td>\n",
       "      <td>90000</td>\n",
       "      <td>37.95</td>\n",
       "      <td>1</td>\n",
       "      <td>1657632476730</td>\n",
       "    </tr>\n",
       "    <tr>\n",
       "      <th>4</th>\n",
       "      <td>e5f68d5e7cdbe56d6984589b4baa6ebfc5e8a8a918e57d...</td>\n",
       "      <td>7a349b09-badc-40a9-a194-83d959aeb50c</td>\n",
       "      <td>1657632495643</td>\n",
       "      <td>0</td>\n",
       "      <td>161291</td>\n",
       "      <td>73.83</td>\n",
       "      <td>1</td>\n",
       "      <td>1657632495643</td>\n",
       "    </tr>\n",
       "  </tbody>\n",
       "</table>\n",
       "</div>"
      ]
     },
     "execution_count": 60,
     "metadata": {},
     "output_type": "execute_result"
    }
   ],
   "execution_count": 60
  },
  {
   "metadata": {
    "ExecuteTime": {
     "end_time": "2025-02-25T20:11:40.260295Z",
     "start_time": "2025-02-25T20:11:34.712823Z"
    }
   },
   "cell_type": "code",
   "source": [
    "news_item = pd.concat([pd.read_csv(fpath) for fpath in glob.glob('../data/itens/itens/*.csv')])\n",
    "news_item.head()"
   ],
   "id": "29e95228385275d1",
   "outputs": [
    {
     "data": {
      "text/plain": [
       "                                   page  \\\n",
       "0  13db0ab1-eea2-4603-84c4-f40a876c7400   \n",
       "1  92907b73-5cd3-4184-8d8c-e206aed2bf1c   \n",
       "2  61e07f64-cddf-46f2-b50c-ea0a39c22050   \n",
       "3  30e2e6c5-554a-48ed-a35f-6c6691c8ac9b   \n",
       "4  9dff71eb-b681-40c7-ac8d-68017ac36675   \n",
       "\n",
       "                                                 url  \\\n",
       "0  http://g1.globo.com/am/amazonas/noticia/2022/0...   \n",
       "1  http://g1.globo.com/pa/santarem-regiao/noticia...   \n",
       "2  http://g1.globo.com/mundo/noticia/2022/07/08/e...   \n",
       "3  http://g1.globo.com/politica/noticia/2021/09/0...   \n",
       "4  http://g1.globo.com/politica/noticia/2021/09/1...   \n",
       "\n",
       "                      issued                   modified  \\\n",
       "0  2022-06-18 20:37:45+00:00  2023-04-15 00:02:08+00:00   \n",
       "1  2019-06-20 17:19:52+00:00  2023-06-16 20:19:15+00:00   \n",
       "2  2022-07-08 08:55:52+00:00  2023-04-15 04:25:39+00:00   \n",
       "3  2021-09-09 19:06:46+00:00  2023-06-07 17:44:54+00:00   \n",
       "4  2021-09-15 19:16:13+00:00  2023-06-07 17:43:39+00:00   \n",
       "\n",
       "                                               title  \\\n",
       "0  Caso Bruno e Dom: 3º suspeito tem prisão tempo...   \n",
       "1  Linguajar dos santarenos é diferenciado e chei...   \n",
       "2  Ex-premiê Shinzo Abe morre após ser baleado no...   \n",
       "3  Relator no STF, Fachin vota contra marco tempo...   \n",
       "4  \\nApós 2 votos, pedido de vista suspende julga...   \n",
       "\n",
       "                                                body  \\\n",
       "0  Após audiência de custódia, a Justiça do Amazo...   \n",
       "1  Vista aérea de Santarém\\nÁdrio Denner/ AD Prod...   \n",
       "2  Novo vídeo mostra que assassino de Shinzo Abe ...   \n",
       "3  Relator no STF, Fachin vota contra marco tempo...   \n",
       "4  Após um pedido de vista (mais tempo para análi...   \n",
       "\n",
       "                                             caption  \n",
       "0  Jeferson da Silva Lima foi escoltado por agent...  \n",
       "1  As expressões santarenas não significam apenas...  \n",
       "2  Ex-primeiro-ministro foi atingido por tiros de...  \n",
       "3  Ministro defendeu que posse indígena é diferen...  \n",
       "4  Pelo marco temporal, índios só podem reivindic...  "
      ],
      "text/html": [
       "<div>\n",
       "<style scoped>\n",
       "    .dataframe tbody tr th:only-of-type {\n",
       "        vertical-align: middle;\n",
       "    }\n",
       "\n",
       "    .dataframe tbody tr th {\n",
       "        vertical-align: top;\n",
       "    }\n",
       "\n",
       "    .dataframe thead th {\n",
       "        text-align: right;\n",
       "    }\n",
       "</style>\n",
       "<table border=\"1\" class=\"dataframe\">\n",
       "  <thead>\n",
       "    <tr style=\"text-align: right;\">\n",
       "      <th></th>\n",
       "      <th>page</th>\n",
       "      <th>url</th>\n",
       "      <th>issued</th>\n",
       "      <th>modified</th>\n",
       "      <th>title</th>\n",
       "      <th>body</th>\n",
       "      <th>caption</th>\n",
       "    </tr>\n",
       "  </thead>\n",
       "  <tbody>\n",
       "    <tr>\n",
       "      <th>0</th>\n",
       "      <td>13db0ab1-eea2-4603-84c4-f40a876c7400</td>\n",
       "      <td>http://g1.globo.com/am/amazonas/noticia/2022/0...</td>\n",
       "      <td>2022-06-18 20:37:45+00:00</td>\n",
       "      <td>2023-04-15 00:02:08+00:00</td>\n",
       "      <td>Caso Bruno e Dom: 3º suspeito tem prisão tempo...</td>\n",
       "      <td>Após audiência de custódia, a Justiça do Amazo...</td>\n",
       "      <td>Jeferson da Silva Lima foi escoltado por agent...</td>\n",
       "    </tr>\n",
       "    <tr>\n",
       "      <th>1</th>\n",
       "      <td>92907b73-5cd3-4184-8d8c-e206aed2bf1c</td>\n",
       "      <td>http://g1.globo.com/pa/santarem-regiao/noticia...</td>\n",
       "      <td>2019-06-20 17:19:52+00:00</td>\n",
       "      <td>2023-06-16 20:19:15+00:00</td>\n",
       "      <td>Linguajar dos santarenos é diferenciado e chei...</td>\n",
       "      <td>Vista aérea de Santarém\\nÁdrio Denner/ AD Prod...</td>\n",
       "      <td>As expressões santarenas não significam apenas...</td>\n",
       "    </tr>\n",
       "    <tr>\n",
       "      <th>2</th>\n",
       "      <td>61e07f64-cddf-46f2-b50c-ea0a39c22050</td>\n",
       "      <td>http://g1.globo.com/mundo/noticia/2022/07/08/e...</td>\n",
       "      <td>2022-07-08 08:55:52+00:00</td>\n",
       "      <td>2023-04-15 04:25:39+00:00</td>\n",
       "      <td>Ex-premiê Shinzo Abe morre após ser baleado no...</td>\n",
       "      <td>Novo vídeo mostra que assassino de Shinzo Abe ...</td>\n",
       "      <td>Ex-primeiro-ministro foi atingido por tiros de...</td>\n",
       "    </tr>\n",
       "    <tr>\n",
       "      <th>3</th>\n",
       "      <td>30e2e6c5-554a-48ed-a35f-6c6691c8ac9b</td>\n",
       "      <td>http://g1.globo.com/politica/noticia/2021/09/0...</td>\n",
       "      <td>2021-09-09 19:06:46+00:00</td>\n",
       "      <td>2023-06-07 17:44:54+00:00</td>\n",
       "      <td>Relator no STF, Fachin vota contra marco tempo...</td>\n",
       "      <td>Relator no STF, Fachin vota contra marco tempo...</td>\n",
       "      <td>Ministro defendeu que posse indígena é diferen...</td>\n",
       "    </tr>\n",
       "    <tr>\n",
       "      <th>4</th>\n",
       "      <td>9dff71eb-b681-40c7-ac8d-68017ac36675</td>\n",
       "      <td>http://g1.globo.com/politica/noticia/2021/09/1...</td>\n",
       "      <td>2021-09-15 19:16:13+00:00</td>\n",
       "      <td>2023-06-07 17:43:39+00:00</td>\n",
       "      <td>\\nApós 2 votos, pedido de vista suspende julga...</td>\n",
       "      <td>Após um pedido de vista (mais tempo para análi...</td>\n",
       "      <td>Pelo marco temporal, índios só podem reivindic...</td>\n",
       "    </tr>\n",
       "  </tbody>\n",
       "</table>\n",
       "</div>"
      ]
     },
     "execution_count": 52,
     "metadata": {},
     "output_type": "execute_result"
    }
   ],
   "execution_count": 52
  },
  {
   "metadata": {
    "ExecuteTime": {
     "end_time": "2025-02-25T20:17:35.295777Z",
     "start_time": "2025-02-25T20:17:35.077452Z"
    }
   },
   "cell_type": "code",
   "source": "user_historys.query('history == \"1db21691-869e-4391-afc9-9482f367b6bb\"')['numberOfClicksHistory'].max()\n",
   "id": "ba579c07645205bc",
   "outputs": [
    {
     "data": {
      "text/plain": [
       "np.int64(111)"
      ]
     },
     "execution_count": 61,
     "metadata": {},
     "output_type": "execute_result"
    }
   ],
   "execution_count": 61
  },
  {
   "metadata": {
    "ExecuteTime": {
     "end_time": "2025-02-25T20:26:32.330183Z",
     "start_time": "2025-02-25T20:26:30.952373Z"
    }
   },
   "cell_type": "code",
   "source": "user_historys.groupby('history')[['numberOfClicksHistory']].sum().sort_values('numberOfClicksHistory',ascending=False).head(5)",
   "id": "7c7a92e06d3c503e",
   "outputs": [
    {
     "data": {
      "text/plain": [
       "                                      numberOfClicksHistory\n",
       "history                                                    \n",
       "d2593c3d-2347-40d9-948c-b6065e8459a9                 316424\n",
       "f0a78e58-ec7e-494c-9462-fbd6446a9a89                 279037\n",
       "f6b5d170-48b9-4f8e-88d4-c84b6668f3bd                 258710\n",
       "a36c98b5-f159-48f8-9f5a-1fc6ea9956c8                 244181\n",
       "1f32787b-de2b-49be-8c20-ddaeae34cc22                 229747"
      ],
      "text/html": [
       "<div>\n",
       "<style scoped>\n",
       "    .dataframe tbody tr th:only-of-type {\n",
       "        vertical-align: middle;\n",
       "    }\n",
       "\n",
       "    .dataframe tbody tr th {\n",
       "        vertical-align: top;\n",
       "    }\n",
       "\n",
       "    .dataframe thead th {\n",
       "        text-align: right;\n",
       "    }\n",
       "</style>\n",
       "<table border=\"1\" class=\"dataframe\">\n",
       "  <thead>\n",
       "    <tr style=\"text-align: right;\">\n",
       "      <th></th>\n",
       "      <th>numberOfClicksHistory</th>\n",
       "    </tr>\n",
       "    <tr>\n",
       "      <th>history</th>\n",
       "      <th></th>\n",
       "    </tr>\n",
       "  </thead>\n",
       "  <tbody>\n",
       "    <tr>\n",
       "      <th>d2593c3d-2347-40d9-948c-b6065e8459a9</th>\n",
       "      <td>316424</td>\n",
       "    </tr>\n",
       "    <tr>\n",
       "      <th>f0a78e58-ec7e-494c-9462-fbd6446a9a89</th>\n",
       "      <td>279037</td>\n",
       "    </tr>\n",
       "    <tr>\n",
       "      <th>f6b5d170-48b9-4f8e-88d4-c84b6668f3bd</th>\n",
       "      <td>258710</td>\n",
       "    </tr>\n",
       "    <tr>\n",
       "      <th>a36c98b5-f159-48f8-9f5a-1fc6ea9956c8</th>\n",
       "      <td>244181</td>\n",
       "    </tr>\n",
       "    <tr>\n",
       "      <th>1f32787b-de2b-49be-8c20-ddaeae34cc22</th>\n",
       "      <td>229747</td>\n",
       "    </tr>\n",
       "  </tbody>\n",
       "</table>\n",
       "</div>"
      ]
     },
     "execution_count": 65,
     "metadata": {},
     "output_type": "execute_result"
    }
   ],
   "execution_count": 65
  },
  {
   "metadata": {
    "ExecuteTime": {
     "end_time": "2025-02-25T20:17:36.531358Z",
     "start_time": "2025-02-25T20:17:36.481075Z"
    }
   },
   "cell_type": "code",
   "source": "news_item.set_index('page').loc['d2593c3d-2347-40d9-948c-b6065e8459a9'].head()",
   "id": "88957f7dc5cac1a4",
   "outputs": [
    {
     "data": {
      "text/plain": [
       "url         http://g1.globo.com/rj/rio-de-janeiro/noticia/...\n",
       "issued                              2022-07-11 03:20:57+00:00\n",
       "modified                            2022-07-12 23:06:28+00:00\n",
       "title       Anestesista é preso em flagrante por estupro d...\n",
       "body        Vídeo mostra momento em que anestesista estupr...\n",
       "Name: d2593c3d-2347-40d9-948c-b6065e8459a9, dtype: object"
      ]
     },
     "execution_count": 63,
     "metadata": {},
     "output_type": "execute_result"
    }
   ],
   "execution_count": 63
  }
 ],
 "metadata": {
  "kernelspec": {
   "display_name": "Python 3",
   "language": "python",
   "name": "python3"
  },
  "language_info": {
   "codemirror_mode": {
    "name": "ipython",
    "version": 2
   },
   "file_extension": ".py",
   "mimetype": "text/x-python",
   "name": "python",
   "nbconvert_exporter": "python",
   "pygments_lexer": "ipython2",
   "version": "2.7.6"
  }
 },
 "nbformat": 4,
 "nbformat_minor": 5
}
