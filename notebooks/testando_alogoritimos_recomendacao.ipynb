{
 "cells": [
  {
   "metadata": {},
   "cell_type": "markdown",
   "source": [
    "## Pré processamento dos dados\n",
    "\n",
    "O código processa dados de interação de usuários com notícias para gerar um score de recomendação. Ele carrega os dados, trata os tipos, remove timezones e calcula métricas como popularidade (quantidade de visitas), recência (notícias mais recentes têm maior peso) e interação (baseada em cliques, rolagem e visitas). Por fim, normaliza os scores e os combina em um único dataframe para recomendação."
   ],
   "id": "c0fbd1e275cc9bd2"
  },
  {
   "metadata": {},
   "cell_type": "markdown",
   "source": [
    "## Dados de treino\n",
    "\n",
    "O código carrega arquivos CSV de usuários e notícias, processa os dados de interação separando valores múltiplos em linhas individuais, converte tipos numéricos corretamente e normaliza as métricas de interação. Por fim, calcula um score de interação com base em cliques, rolagem e visitas, aplicando pesos para cada métrica."
   ],
   "id": "80327d0f67f89934"
  },
  {
   "metadata": {
    "ExecuteTime": {
     "end_time": "2025-03-02T19:26:39.802964Z",
     "start_time": "2025-03-02T19:25:08.645817Z"
    }
   },
   "cell_type": "code",
   "source": [
    "import glob\n",
    "\n",
    "import numpy as np\n",
    "import pandas as pd\n",
    "from sklearn.preprocessing import MinMaxScaler\n",
    "\n",
    "# Carregar Dados\n",
    "user_infos = pd.concat([pd.read_csv(fpath) for fpath in glob.glob('../data/raw/files/treino/*.csv')])\n",
    "news_item = pd.concat([pd.read_csv(fpath) for fpath in glob.glob('../data/raw/itens/itens/*.csv')])\n",
    "\n",
    "# Criar user_historys (Explode Interações)\n",
    "user_historys = user_infos[[\n",
    "    'userId',\n",
    "    'history',\n",
    "    'numberOfClicksHistory',\n",
    "    'scrollPercentageHistory',\n",
    "    'pageVisitsCountHistory'\n",
    "]]\n",
    "\n",
    "user_historys = user_historys.set_index('userId').apply(lambda row: row.str.split(','), axis=1)\n",
    "user_historys = user_historys.apply(pd.Series.explode).reset_index()\n",
    "\n",
    "\n",
    "# Converter Tipos de Dados de Forma Eficiente\n",
    "cols_int = ['numberOfClicksHistory', 'pageVisitsCountHistory']\n",
    "cols_float = ['scrollPercentageHistory']\n",
    "\n",
    "user_historys[cols_int] = user_historys[cols_int].apply(pd.to_numeric, errors='coerce').fillna(0).astype(int)\n",
    "user_historys[cols_float] = user_historys[cols_float].apply(pd.to_numeric, errors='coerce').fillna(0).astype(float)\n",
    "\n",
    "user_historys['history'] = user_historys['history'].str.strip()\n",
    "\n",
    "# Normalizar e Criar Score de Interação\n",
    "scaler = MinMaxScaler()\n",
    "interaction_cols = ['scrollPercentageHistory', 'numberOfClicksHistory', 'pageVisitsCountHistory']\n",
    "\n",
    "user_historys[interaction_cols] = scaler.fit_transform(user_historys[interaction_cols])\n",
    "\n",
    "# Criar a pontuação final diretamente\n",
    "weights = np.array([0.5, 0.3, 0.2])\n",
    "user_historys['interaction_score'] = user_historys[interaction_cols].dot(weights)\n"
   ],
   "id": "4d4fde0db1b8e80b",
   "outputs": [],
   "execution_count": 5
  },
  {
   "metadata": {},
   "cell_type": "markdown",
   "source": [
    "## Dados das notícias\n",
    "\n",
    "O código calcula métricas de popularidade e recência para notícias. Ele conta quantas vezes cada notícia foi visitada, ajusta datas para evitar erros de timezone e usa uma função exponencial para atribuir maior peso a notícias recentes. Em seguida, normaliza os scores de recência e popularidade e combina essas informações no dataframe final."
   ],
   "id": "be5f79e16df39f7c"
  },
  {
   "metadata": {
    "ExecuteTime": {
     "end_time": "2025-03-02T19:26:42.173514Z",
     "start_time": "2025-03-02T19:26:39.803971Z"
    }
   },
   "cell_type": "code",
   "source": [
    "import pandas as pd\n",
    "from sklearn.preprocessing import MinMaxScaler\n",
    "\n",
    "# Popularidade: Contar quantas vezes cada notícia foi visitada\n",
    "news_popularity = user_historys[['userId', 'history', 'pageVisitsCountHistory']]['history'].value_counts().rename('popularity_score')\n",
    "\n",
    "# Ajustar 'issued' para evitar erro de timezone\n",
    "news_item['issued'] = pd.to_datetime(news_item['issued'], errors='coerce')\n",
    "news_item['issued'] = news_item['issued'].dt.tz_localize(None)  # Remove timezone\n",
    "\n",
    "# Função mais rápida para calcular recência\n",
    "def calc_recency_score(dates, alpha=0.1):\n",
    "    \"\"\"Calcula um score de recência com base na diferença de dias até hoje\"\"\"\n",
    "    max_days = (pd.Timestamp.today() - dates.min()).days\n",
    "    return np.exp(-alpha * (pd.Timestamp.today() - dates).dt.days / max_days)\n",
    "\n",
    "news_item['recency_score'] = calc_recency_score(news_item['issued']).fillna(0)\n",
    "\n",
    "# Normalizar os scores\n",
    "scaler = MinMaxScaler()\n",
    "news_item[['recency_score']] = scaler.fit_transform(news_item[['recency_score']])\n",
    "\n",
    "# Juntar Popularidade e Notícias\n",
    "news_item = news_item.set_index('page').join(news_popularity, on='page', how='left').fillna(0).reset_index()\n",
    "\n",
    "# Normalizar Popularidade\n",
    "news_item[['popularity_score']] = scaler.fit_transform(news_item[['popularity_score']])"
   ],
   "id": "5ff83079fb0ef325",
   "outputs": [],
   "execution_count": 6
  },
  {
   "metadata": {},
   "cell_type": "markdown",
   "source": [
    "# Testando dados com kmeans\n",
    "\n",
    "O código transforma o histórico de interações dos usuários em representações numéricas usando TF-IDF, reduz a dimensionalidade com SVD e calcula embeddings para cada usuário. Em seguida, adiciona o score de interação médio, normaliza os dados e aplica K-Means para agrupar usuários em clusters. Por fim, os clusters são incorporados ao dataframe original."
   ],
   "id": "4b6243cb8d5f03dd"
  },
  {
   "metadata": {
    "ExecuteTime": {
     "end_time": "2025-03-02T19:29:00.237761Z",
     "start_time": "2025-03-02T19:26:42.176179Z"
    }
   },
   "cell_type": "code",
   "source": [
    "import pandas as pd\n",
    "from sklearn.cluster import KMeans\n",
    "from sklearn.preprocessing import MinMaxScaler\n",
    "from sklearn.feature_extraction.text import TfidfVectorizer\n",
    "from sklearn.decomposition import TruncatedSVD\n",
    "\n",
    "# Garantir que 'history' é string\n",
    "user_historys['history'] = user_historys['history'].astype(str)\n",
    "\n",
    "# Criar Representação Numérica das Notícias (TF-IDF) com Limitação\n",
    "vectorizer = TfidfVectorizer(max_features=50_000)  # Reduz número de colunas\n",
    "user_news_matrix = vectorizer.fit_transform(user_historys.groupby('userId')['history'].apply(lambda x: ' '.join(x)))\n",
    "\n",
    "# Reduzir Dimensionalidade com SVD (100 componentes)\n",
    "svd = TruncatedSVD(n_components=100, random_state=42)\n",
    "news_embeddings = svd.fit_transform(user_news_matrix)  # Mantém formato esparso\n",
    "\n",
    "# Criar DataFrame com Embeddings e Interaction Score\n",
    "user_embeddings = pd.DataFrame(news_embeddings, index=user_historys['userId'].unique())\n",
    "\n",
    "# Adicionar Interaction Score e Normalizar\n",
    "user_embeddings['interaction_score'] = user_historys.groupby('userId')['interaction_score'].mean().values\n",
    "\n",
    "# Converter todos os nomes das colunas para string\n",
    "user_embeddings.columns = user_embeddings.columns.astype(str)\n",
    "\n",
    "# Normalizar os Dados\n",
    "scaler = MinMaxScaler()\n",
    "user_embeddings.iloc[:, :] = scaler.fit_transform(user_embeddings)\n",
    "\n",
    "# Aplicar K-Means\n",
    "kmeans = KMeans(n_clusters=5, random_state=42, n_init=10)\n",
    "user_embeddings['cluster'] = kmeans.fit_predict(user_embeddings)\n",
    "\n",
    "# Juntar os Clusters no DataFrame Original\n",
    "user_historys = user_historys.merge(user_embeddings[['cluster']], left_on='userId', right_index=True, how='left')\n"
   ],
   "id": "a957703ddedc3612",
   "outputs": [],
   "execution_count": 7
  },
  {
   "metadata": {},
   "cell_type": "markdown",
   "source": [
    "## Testando com Dados com Cluster\n",
    "\n",
    "O código recomenda notícias com base em clusters de usuários similares. Ele identifica o cluster do usuário, encontra outros usuários no mesmo cluster e retorna as notícias que eles consumiram. Além disso, valida se alguma notícia recomendada está na lista de validação.\n",
    "\n",
    "Se quiser testar com dados reais, garanta que user_historys contenha as colunas corretas (userId, history, cluster). Caso o teste falhe, pode ser útil imprimir os valores intermediários para depuração."
   ],
   "id": "33431cbf4ec47721"
  },
  {
   "metadata": {
    "ExecuteTime": {
     "end_time": "2025-03-03T01:01:37.164928Z",
     "start_time": "2025-03-03T01:01:35.728917Z"
    }
   },
   "cell_type": "code",
   "source": [
    "def recomendar_noticias_por_cluster(user_id, user_historys):\n",
    "    # Encontrar o cluster do usuário\n",
    "    user_cluster = user_historys[user_historys['userId'] == user_id]['cluster'].unique()\n",
    "\n",
    "    # Obter usuários no mesmo cluster\n",
    "    similar_users_cluster = user_historys[user_historys['cluster'].isin(user_cluster)]['userId'].unique()\n",
    "\n",
    "    # Obter notícias consumidas pelos usuários do cluster\n",
    "    similar_users_cluster_news = user_historys[user_historys['userId'].isin(similar_users_cluster)]['history'].unique()\n",
    "\n",
    "    # Validação\n",
    "    noticias_futuras_validacao = [\n",
    "        '9c764c3a-f9f8-4fb2-b2c4-6331eaeb3dd6',\n",
    "        'b8eba39e-3905-424f-9f7f-966f07637244',\n",
    "        '1603a1f9-09cb-47b6-ad1a-8f9a3c0bbfc0'\n",
    "    ]\n",
    "\n",
    "    print('Teste passou' if set(similar_users_cluster_news) & set(noticias_futuras_validacao) else 'Teste falhou')\n",
    "\n",
    "    return similar_users_cluster ,similar_users_cluster_news\n",
    "user_id = 'a120515626fe5d12b22b7d5a7c5008912cc69284aa26ccdff8edab753db8c7e7'  # Troque pelo ID real\n",
    "\n",
    "# Teste com um usuário real\n",
    "cluster_users , cluster_news = recomendar_noticias_por_cluster(user_id, user_historys)\n",
    "print(f\"Notícias recomendadas por cluster: {cluster_news}\")\n"
   ],
   "id": "2cf8789a997f2209",
   "outputs": [
    {
     "name": "stdout",
     "output_type": "stream",
     "text": [
      "Teste passou\n",
      "Notícias recomendadas por cluster: ['c8aab885-433d-4e46-8066-479f40ba7fb2'\n",
      " '68d2039c-c9aa-456c-ac33-9b2e8677fba7'\n",
      " '13e423ce-1d69-4c78-bc18-e8c8f7271964' ...\n",
      " '59eb253d-bb44-4048-8c97-cca1cb2464b8'\n",
      " '7da17f35-ef13-44a3-abc6-bf096fe42532'\n",
      " '489989dd-63d0-41b3-bb92-2fe7b5dd965e']\n"
     ]
    }
   ],
   "execution_count": 31
  },
  {
   "metadata": {
    "ExecuteTime": {
     "end_time": "2025-03-02T19:29:01.695189Z",
     "start_time": "2025-03-02T19:29:01.417057Z"
    }
   },
   "cell_type": "code",
   "source": "news_item.set_index('page').loc[cluster_news].head()",
   "id": "3fa8155dd8101b37",
   "outputs": [
    {
     "data": {
      "text/plain": [
       "                                                                                    url  \\\n",
       "page                                                                                      \n",
       "c8aab885-433d-4e46-8066-479f40ba7fb2  http://g1.globo.com/sc/santa-catarina/noticia/...   \n",
       "68d2039c-c9aa-456c-ac33-9b2e8677fba7  http://g1.globo.com/rj/rio-de-janeiro/noticia/...   \n",
       "13e423ce-1d69-4c78-bc18-e8c8f7271964  http://g1.globo.com/sc/santa-catarina/noticia/...   \n",
       "3325b5a1-979a-4cb3-82b6-63905c9edbe8  http://g1.globo.com/sp/itapetininga-regiao/not...   \n",
       "fe856057-f97d-419f-ab1c-97c5c3e0719c  http://g1.globo.com/sp/itapetininga-regiao/not...   \n",
       "\n",
       "                                                  issued  \\\n",
       "page                                                       \n",
       "c8aab885-433d-4e46-8066-479f40ba7fb2 2022-03-19 21:03:21   \n",
       "68d2039c-c9aa-456c-ac33-9b2e8677fba7 2021-11-01 03:01:20   \n",
       "13e423ce-1d69-4c78-bc18-e8c8f7271964 2022-02-01 18:33:21   \n",
       "3325b5a1-979a-4cb3-82b6-63905c9edbe8 2022-08-14 20:17:10   \n",
       "fe856057-f97d-419f-ab1c-97c5c3e0719c 2022-08-14 11:39:11   \n",
       "\n",
       "                                                       modified  \\\n",
       "page                                                              \n",
       "c8aab885-433d-4e46-8066-479f40ba7fb2  2022-03-19 21:03:21+00:00   \n",
       "68d2039c-c9aa-456c-ac33-9b2e8677fba7  2021-11-01 13:20:44+00:00   \n",
       "13e423ce-1d69-4c78-bc18-e8c8f7271964  2022-02-04 20:23:50+00:00   \n",
       "3325b5a1-979a-4cb3-82b6-63905c9edbe8  2022-08-14 20:17:11+00:00   \n",
       "fe856057-f97d-419f-ab1c-97c5c3e0719c  2022-08-15 15:18:15+00:00   \n",
       "\n",
       "                                                                                  title  \\\n",
       "page                                                                                      \n",
       "c8aab885-433d-4e46-8066-479f40ba7fb2  Você viu? 'Musa das Estradas' faz vídeo de pé,...   \n",
       "68d2039c-c9aa-456c-ac33-9b2e8677fba7  'Mulher-Gato' foi proibida de entrar na Maré a...   \n",
       "13e423ce-1d69-4c78-bc18-e8c8f7271964  Caminhoneira 'Musa das Estradas' mostra rosto ...   \n",
       "3325b5a1-979a-4cb3-82b6-63905c9edbe8  Agosto Lilás: Itapetininga promove palestras d...   \n",
       "fe856057-f97d-419f-ab1c-97c5c3e0719c  Designer de sobrancelhas viraliza na web ao fa...   \n",
       "\n",
       "                                                                                   body  \\\n",
       "page                                                                                      \n",
       "c8aab885-433d-4e46-8066-479f40ba7fb2  Caminhoneira Aline Füchter em pé em casa\\nRepr...   \n",
       "68d2039c-c9aa-456c-ac33-9b2e8677fba7  Polícia Civil do Rio prende Mulher-Gato, apont...   \n",
       "13e423ce-1d69-4c78-bc18-e8c8f7271964  Caminhoneira 'Musa das Estradas' mostra rosto ...   \n",
       "3325b5a1-979a-4cb3-82b6-63905c9edbe8  Itapetininga promove palestras de conscientiza...   \n",
       "fe856057-f97d-419f-ab1c-97c5c3e0719c  Designer de sobrancelhas viraliza na web ao fa...   \n",
       "\n",
       "                                                                                caption  \\\n",
       "page                                                                                      \n",
       "c8aab885-433d-4e46-8066-479f40ba7fb2  Caminhoneira Aline Füchter ficou em pé em fren...   \n",
       "68d2039c-c9aa-456c-ac33-9b2e8677fba7  Luana Rabello, segundo a polícia, é muito famo...   \n",
       "13e423ce-1d69-4c78-bc18-e8c8f7271964  Aline Füchter chegou a Tubarão, onde mora, no ...   \n",
       "3325b5a1-979a-4cb3-82b6-63905c9edbe8  Segunda prefeitura, durante mês de agosto, pal...   \n",
       "fe856057-f97d-419f-ab1c-97c5c3e0719c  Vídeo publicado por Geizielle Ferreira Mendes,...   \n",
       "\n",
       "                                      recency_score  popularity_score  \n",
       "page                                                                   \n",
       "c8aab885-433d-4e46-8066-479f40ba7fb2       0.947771          0.013281  \n",
       "68d2039c-c9aa-456c-ac33-9b2e8677fba7       0.898899          0.005304  \n",
       "13e423ce-1d69-4c78-bc18-e8c8f7271964       0.931578          0.009612  \n",
       "3325b5a1-979a-4cb3-82b6-63905c9edbe8       1.000000          0.000957  \n",
       "fe856057-f97d-419f-ab1c-97c5c3e0719c       0.999646          0.118649  "
      ],
      "text/html": [
       "<div>\n",
       "<style scoped>\n",
       "    .dataframe tbody tr th:only-of-type {\n",
       "        vertical-align: middle;\n",
       "    }\n",
       "\n",
       "    .dataframe tbody tr th {\n",
       "        vertical-align: top;\n",
       "    }\n",
       "\n",
       "    .dataframe thead th {\n",
       "        text-align: right;\n",
       "    }\n",
       "</style>\n",
       "<table border=\"1\" class=\"dataframe\">\n",
       "  <thead>\n",
       "    <tr style=\"text-align: right;\">\n",
       "      <th></th>\n",
       "      <th>url</th>\n",
       "      <th>issued</th>\n",
       "      <th>modified</th>\n",
       "      <th>title</th>\n",
       "      <th>body</th>\n",
       "      <th>caption</th>\n",
       "      <th>recency_score</th>\n",
       "      <th>popularity_score</th>\n",
       "    </tr>\n",
       "    <tr>\n",
       "      <th>page</th>\n",
       "      <th></th>\n",
       "      <th></th>\n",
       "      <th></th>\n",
       "      <th></th>\n",
       "      <th></th>\n",
       "      <th></th>\n",
       "      <th></th>\n",
       "      <th></th>\n",
       "    </tr>\n",
       "  </thead>\n",
       "  <tbody>\n",
       "    <tr>\n",
       "      <th>c8aab885-433d-4e46-8066-479f40ba7fb2</th>\n",
       "      <td>http://g1.globo.com/sc/santa-catarina/noticia/...</td>\n",
       "      <td>2022-03-19 21:03:21</td>\n",
       "      <td>2022-03-19 21:03:21+00:00</td>\n",
       "      <td>Você viu? 'Musa das Estradas' faz vídeo de pé,...</td>\n",
       "      <td>Caminhoneira Aline Füchter em pé em casa\\nRepr...</td>\n",
       "      <td>Caminhoneira Aline Füchter ficou em pé em fren...</td>\n",
       "      <td>0.947771</td>\n",
       "      <td>0.013281</td>\n",
       "    </tr>\n",
       "    <tr>\n",
       "      <th>68d2039c-c9aa-456c-ac33-9b2e8677fba7</th>\n",
       "      <td>http://g1.globo.com/rj/rio-de-janeiro/noticia/...</td>\n",
       "      <td>2021-11-01 03:01:20</td>\n",
       "      <td>2021-11-01 13:20:44+00:00</td>\n",
       "      <td>'Mulher-Gato' foi proibida de entrar na Maré a...</td>\n",
       "      <td>Polícia Civil do Rio prende Mulher-Gato, apont...</td>\n",
       "      <td>Luana Rabello, segundo a polícia, é muito famo...</td>\n",
       "      <td>0.898899</td>\n",
       "      <td>0.005304</td>\n",
       "    </tr>\n",
       "    <tr>\n",
       "      <th>13e423ce-1d69-4c78-bc18-e8c8f7271964</th>\n",
       "      <td>http://g1.globo.com/sc/santa-catarina/noticia/...</td>\n",
       "      <td>2022-02-01 18:33:21</td>\n",
       "      <td>2022-02-04 20:23:50+00:00</td>\n",
       "      <td>Caminhoneira 'Musa das Estradas' mostra rosto ...</td>\n",
       "      <td>Caminhoneira 'Musa das Estradas' mostra rosto ...</td>\n",
       "      <td>Aline Füchter chegou a Tubarão, onde mora, no ...</td>\n",
       "      <td>0.931578</td>\n",
       "      <td>0.009612</td>\n",
       "    </tr>\n",
       "    <tr>\n",
       "      <th>3325b5a1-979a-4cb3-82b6-63905c9edbe8</th>\n",
       "      <td>http://g1.globo.com/sp/itapetininga-regiao/not...</td>\n",
       "      <td>2022-08-14 20:17:10</td>\n",
       "      <td>2022-08-14 20:17:11+00:00</td>\n",
       "      <td>Agosto Lilás: Itapetininga promove palestras d...</td>\n",
       "      <td>Itapetininga promove palestras de conscientiza...</td>\n",
       "      <td>Segunda prefeitura, durante mês de agosto, pal...</td>\n",
       "      <td>1.000000</td>\n",
       "      <td>0.000957</td>\n",
       "    </tr>\n",
       "    <tr>\n",
       "      <th>fe856057-f97d-419f-ab1c-97c5c3e0719c</th>\n",
       "      <td>http://g1.globo.com/sp/itapetininga-regiao/not...</td>\n",
       "      <td>2022-08-14 11:39:11</td>\n",
       "      <td>2022-08-15 15:18:15+00:00</td>\n",
       "      <td>Designer de sobrancelhas viraliza na web ao fa...</td>\n",
       "      <td>Designer de sobrancelhas viraliza na web ao fa...</td>\n",
       "      <td>Vídeo publicado por Geizielle Ferreira Mendes,...</td>\n",
       "      <td>0.999646</td>\n",
       "      <td>0.118649</td>\n",
       "    </tr>\n",
       "  </tbody>\n",
       "</table>\n",
       "</div>"
      ]
     },
     "execution_count": 9,
     "metadata": {},
     "output_type": "execute_result"
    }
   ],
   "execution_count": 9
  },
  {
   "metadata": {},
   "cell_type": "markdown",
   "source": [
    "# Testando com Dados com Knn\n",
    "\n",
    "O teste com KNN foi limitado, pois interações e notícias consumidas não foram suficientes para encontrar usuários realmente similares. Para melhorar, seria interessante investir em embeddings, modelos híbridos e mais dados (como horários e categorias de interesse) para recomendações mais precisas."
   ],
   "id": "bb193d79bfb84ee4"
  },
  {
   "metadata": {
    "ExecuteTime": {
     "end_time": "2025-03-03T01:27:43.801936Z",
     "start_time": "2025-03-03T01:27:41.693513Z"
    }
   },
   "cell_type": "code",
   "source": [
    "from sklearn.neighbors import NearestNeighbors\n",
    "\n",
    "# Aplicar KNN (Buscar Usuários Similares)\n",
    "knn = NearestNeighbors(n_neighbors=10, metric='cosine')\n",
    "knn.fit(user_historys.set_index('userId').loc[cluster_users][['interaction_score']])\n",
    "\n",
    "# Exemplo: Encontrar usuários similares a um usuário específico\n",
    "user_id = 'a120515626fe5d12b22b7d5a7c5008912cc69284aa26ccdff8edab753db8c7e7'  # Troque pelo ID real de um usuário\n",
    "user_idx = user_historys[user_historys['userId'] == user_id].index[0]\n",
    "distances, indices = knn.kneighbors([user_historys.loc[user_idx, ['interaction_score']]])\n",
    "\n",
    "# Mostrar usuários similares\n",
    "similar_users = user_historys.iloc[indices[0]]['userId'].tolist()\n",
    "print(f\"Usuários similares a {user_id}: {similar_users}\")\n"
   ],
   "id": "initial_id",
   "outputs": [
    {
     "name": "stdout",
     "output_type": "stream",
     "text": [
      "Usuários similares a a120515626fe5d12b22b7d5a7c5008912cc69284aa26ccdff8edab753db8c7e7: ['f98d1132f60d46883ce49583257104d15ce723b3bbda2147c1e31ac76f0bf069', '52f801c476a3db5973c60ffd0b9e76fea50de7ce331dc20f5f80ab0a6ddd354e', '52f801c476a3db5973c60ffd0b9e76fea50de7ce331dc20f5f80ab0a6ddd354e', '52f801c476a3db5973c60ffd0b9e76fea50de7ce331dc20f5f80ab0a6ddd354e', '52f801c476a3db5973c60ffd0b9e76fea50de7ce331dc20f5f80ab0a6ddd354e', '52f801c476a3db5973c60ffd0b9e76fea50de7ce331dc20f5f80ab0a6ddd354e', '52f801c476a3db5973c60ffd0b9e76fea50de7ce331dc20f5f80ab0a6ddd354e', '52f801c476a3db5973c60ffd0b9e76fea50de7ce331dc20f5f80ab0a6ddd354e', '52f801c476a3db5973c60ffd0b9e76fea50de7ce331dc20f5f80ab0a6ddd354e', '52f801c476a3db5973c60ffd0b9e76fea50de7ce331dc20f5f80ab0a6ddd354e']\n"
     ]
    },
    {
     "name": "stderr",
     "output_type": "stream",
     "text": [
      "C:\\Users\\pedro\\AppData\\Local\\Packages\\PythonSoftwareFoundation.Python.3.12_qbz5n2kfra8p0\\LocalCache\\Local\\pypoetry\\Cache\\virtualenvs\\fase-5-datathon-wYz4VdgE-py3.12\\Lib\\site-packages\\sklearn\\utils\\validation.py:2739: UserWarning: X does not have valid feature names, but NearestNeighbors was fitted with feature names\n",
      "  warnings.warn(\n"
     ]
    }
   ],
   "execution_count": 36
  },
  {
   "metadata": {},
   "cell_type": "markdown",
   "source": [
    "## Testando com Dados com KNN\n",
    "\n",
    "O método baseado em similaridade com KNN foi limitado, pois considerar apenas a interação dos usuários com as notícias não trouxe recomendações precisas.\n",
    "\n",
    "Talvez um ajuste para categorizar as notícias antes de buscar similaridade pudesse melhorar os resultados."
   ],
   "id": "fa166e7c24cf9b32"
  },
  {
   "metadata": {
    "ExecuteTime": {
     "end_time": "2025-03-03T01:27:46.714334Z",
     "start_time": "2025-03-03T01:27:46.224897Z"
    }
   },
   "cell_type": "code",
   "source": [
    "def recomendar_noticias_por_similaridade(user_id, user_historys, knn):\n",
    "    # Encontrar usuários similares\n",
    "    user_idx = user_historys[user_historys['userId'] == user_id].index[0]\n",
    "    _, indices = knn.kneighbors([user_historys.loc[user_idx, ['interaction_score']]])\n",
    "\n",
    "    # Obter notícias consumidas por usuários similares\n",
    "    similar_users = user_historys.iloc[indices[0]]['userId'].tolist()\n",
    "    similar_users_news = user_historys[user_historys['userId'].isin(similar_users)]['history'].unique()\n",
    "\n",
    "    # Validação\n",
    "    noticias_futuras_validacao = [\n",
    "        '9c764c3a-f9f8-4fb2-b2c4-6331eaeb3dd6',\n",
    "        'b8eba39e-3905-424f-9f7f-966f07637244',\n",
    "        '1603a1f9-09cb-47b6-ad1a-8f9a3c0bbfc0'\n",
    "    ]\n",
    "\n",
    "    print('Teste passou' if set(similar_users_news) & set(noticias_futuras_validacao) else 'Teste falhou')\n",
    "\n",
    "    return similar_users_news\n",
    "\n",
    "# Teste com um usuário real\n",
    "user_id = 'a120515626fe5d12b22b7d5a7c5008912cc69284aa26ccdff8edab753db8c7e7'  # Substitua pelo ID real de um usuário\n",
    "similar_users_news = recomendar_noticias_por_similaridade(user_id, user_historys, knn)\n",
    "print(f\"Notícias recomendadas por similaridade: {similar_users_news}\")"
   ],
   "id": "a76bb40d36d33743",
   "outputs": [
    {
     "name": "stdout",
     "output_type": "stream",
     "text": [
      "Teste falhou\n",
      "Notícias recomendadas por similaridade: ['c8aab885-433d-4e46-8066-479f40ba7fb2'\n",
      " '68d2039c-c9aa-456c-ac33-9b2e8677fba7'\n",
      " '13e423ce-1d69-4c78-bc18-e8c8f7271964'\n",
      " 'c3d1bd47-feb1-4c0a-9e78-36d20b3f0fc9'\n",
      " '286428b0-dd16-46e6-8189-2908a23967ea'\n",
      " '68bc8994-ebef-4e48-8478-e7fe1619ae58'\n",
      " '44fdcedf-e9ae-4748-8ab3-0cdb466672a6'\n",
      " '51219799-daab-48b2-b700-3a61833b3ea8'\n",
      " '3ce73782-d80e-4031-be53-5761b158cae7'\n",
      " 'ecc37a22-b730-4e3a-bc87-c3ba3403acbc'\n",
      " '7594da99-d606-4338-a373-710a7dec776a'\n",
      " 'bf257382-74fb-4392-ad6a-143240e39f81'\n",
      " '3d34afb1-b073-43e8-9691-8fb2e2459000'\n",
      " '4c46d054-1fe0-4d63-9122-fa130fd4f728'\n",
      " 'aed49799-59f8-4f15-94be-566e753d9325'\n",
      " '4d89c4b6-6827-4935-9ba1-0502025af270'\n",
      " '66a9efac-fd43-4fd1-9824-c404b08efa5d'\n",
      " '9d598d19-d6be-4c7e-a963-b8fedfa8f24f'\n",
      " 'd8b6f5a1-2f96-4d02-a78f-dbe1c87946f8'\n",
      " 'a2ef8430-00b6-49de-852d-2c72596c5917'\n",
      " '557c0d37-0427-407d-a235-c78028d91220'\n",
      " '5af379e6-1bd1-4cf8-a23c-03266fb77b2c'\n",
      " 'ad42c4b0-dfb5-49fb-87bf-7b5d055b6e8e'\n",
      " '6a64daa7-32ec-4d35-a7ec-f3df800f6d5e'\n",
      " '5b90df37-0b8b-44d6-abdb-6fad31217c26'\n",
      " '0b5caeed-ff6f-4b9d-8375-9ad25827a4ae'\n",
      " '4941e747-acdc-4e51-aa8b-ba3f3ff00f70'\n",
      " '0306487b-37be-4eda-bd8e-ad0a60886480'\n",
      " '89fa73f0-4341-4de4-bb2a-e429ef96bd43'\n",
      " '61e07f64-cddf-46f2-b50c-ea0a39c22050'\n",
      " 'c4a64d0d-09b8-4f82-8e32-4d2ec6067226'\n",
      " '855d20b7-53f2-4678-a10f-55402d085018'\n",
      " '63184fb3-aa23-4764-96e6-434bd0d7ffef']\n"
     ]
    },
    {
     "name": "stderr",
     "output_type": "stream",
     "text": [
      "C:\\Users\\pedro\\AppData\\Local\\Packages\\PythonSoftwareFoundation.Python.3.12_qbz5n2kfra8p0\\LocalCache\\Local\\pypoetry\\Cache\\virtualenvs\\fase-5-datathon-wYz4VdgE-py3.12\\Lib\\site-packages\\sklearn\\utils\\validation.py:2739: UserWarning: X does not have valid feature names, but NearestNeighbors was fitted with feature names\n",
      "  warnings.warn(\n"
     ]
    }
   ],
   "execution_count": 37
  },
  {
   "metadata": {},
   "cell_type": "markdown",
   "source": "",
   "id": "52c9b2ca1ea68bbb"
  },
  {
   "metadata": {},
   "cell_type": "markdown",
   "source": [
    "# Testando com SVD e fatoração de matrizes\n",
    "\n",
    "Essa abordagem com SVD trouxe melhorias na representação dos usuários e itens, mas gerou uma matriz de interação de alta dimensionalidade, aumentando o custo computacional."
   ],
   "id": "52db6c4d8f8655a0"
  },
  {
   "metadata": {},
   "cell_type": "code",
   "outputs": [],
   "execution_count": null,
   "source": [
    "from scipy.sparse import csr_matrix\n",
    "from sklearn.decomposition import TruncatedSVD\n",
    "\n",
    "from sklearn.preprocessing import normalize\n",
    "\n",
    "interaction_columns = [\n",
    "    'pageVisitsCountHistory',\n",
    "    'scrollPercentageHistory',\n",
    "]\n",
    "\n",
    "\n",
    "def build_interaction_matrix(df, interaction_columns):\n",
    "    # Converter IDs para categorias\n",
    "    user_id_category = df['userId'].astype('category')\n",
    "    history_id_category = df['history'].astype('category')\n",
    "\n",
    "    # Obter os índices das categorias\n",
    "    row = user_id_category.cat.codes\n",
    "    col = history_id_category.cat.codes\n",
    "\n",
    "    # Extrair os dados de interação\n",
    "    interaction_data = df[interaction_columns].values\n",
    "\n",
    "    # Contar o número de usuários, itens e métricas\n",
    "    num_users = len(user_id_category.cat.categories)\n",
    "    num_items = len(history_id_category.cat.categories)\n",
    "    num_metrics = len(interaction_columns)\n",
    "\n",
    "    print(f\"Número de usuários: {num_users}\")\n",
    "    print(f\"Número de itens: {num_items}\")\n",
    "    print(f\"Número de métricas: {num_metrics}\")\n",
    "\n",
    "    # Garantir que os dados de interação estejam no formato correto\n",
    "    assert interaction_data.shape == (len(row), num_metrics), \\\n",
    "        f\"Formato inesperado: interaction_data.shape = {interaction_data.shape}\"\n",
    "\n",
    "    # Construir a matriz de interação corretamente\n",
    "    interaction_matrix = csr_matrix(\n",
    "        (interaction_data[:, 0], (row, col)),\n",
    "        shape=(num_users, num_items)\n",
    "    )\n",
    "\n",
    "    return user_id_category, history_id_category, interaction_matrix\n",
    "\n",
    "\n",
    "def apply_svd(interaction_matrix, n_components=50):\n",
    "    # Fatoração de matriz esparsa com SVD truncado\n",
    "    svd = TruncatedSVD(n_components=n_components)\n",
    "    user_latent_matrix = svd.fit_transform(interaction_matrix)\n",
    "    item_latent_matrix = svd.components_.T  # Vetores latentes dos itens\n",
    "\n",
    "    # Normalizar os vetores latentes\n",
    "    user_latent_matrix = normalize(user_latent_matrix)\n",
    "    item_latent_matrix = normalize(item_latent_matrix)\n",
    "\n",
    "    return user_latent_matrix, item_latent_matrix, svd\n",
    "\n",
    "\n",
    "# Notamos que é um custo alto, pois essa abordagem gera uma tabela com muitas dimensões devido ao teamanho do dataset\n",
    "# interaction_matrix = merged.pivot_table(\n",
    "#     index='userId',\n",
    "#     columns='history',\n",
    "#     values='interaction_score',\n",
    "#     fill_value=0\n",
    "# )\n",
    "\n",
    "# Criando matrix de interação\n",
    "user_id_category, history_id_category, interaction_matrix = build_interaction_matrix(user_historys, interaction_columns)\n",
    "\n",
    "#Aplicação do SVD\n",
    "svd = TruncatedSVD(n_components=4)\n",
    "user_factors = svd.fit_transform(interaction_matrix)\n",
    "item_factors = svd.components_.T\n",
    "\n",
    "# Normalizar os vetores\n",
    "user_vector = normalize(user_factors)\n",
    "item_factors = normalize(item_factors)"
   ],
   "id": "3bf6751e08871eb6"
  },
  {
   "metadata": {},
   "cell_type": "markdown",
   "source": [
    "## Testando com Dados com similaridade por SVD\n",
    "\n",
    "Essa abordagem melhora a recomendação ao considerar vetores latentes gerados pelo SVD, permitindo capturar padrões mais complexos.\n",
    "\n",
    "Porém, percebemos que a recomendação ainda depende fortemente da similaridade vetorial, o que pode não ser suficiente para capturar a relevância contextual das notícias. Talvez um ajuste que inclua categorização das notícias ou um modelo híbrido com metadados (como tópicos ou embeddings de texto) possa melhorar a precisão."
   ],
   "id": "2ce9f411e952f7ce"
  },
  {
   "metadata": {},
   "cell_type": "code",
   "outputs": [],
   "execution_count": null,
   "source": [
    "from sklearn.metrics.pairwise import cosine_similarity\n",
    "import numpy as np\n",
    "from sklearn.preprocessing import normalize\n",
    "\n",
    "\n",
    "def recomendar_noticias_por_similaridade_vector_svd(user_id, historySize, user_factors, item_factors, user_id_category,\n",
    "               history_id_category, news_item, history_size_min_limit=50, top_k=5, top_p=None):\n",
    "\n",
    "    if historySize > history_size_min_limit:\n",
    "\n",
    "        # Se top_p for None, usar todos os itens\n",
    "        top_p = min(top_p or len(item_factors), len(item_factors))\n",
    "\n",
    "        try:\n",
    "            #  Obter o índice numérico do usuário\n",
    "            user_index = user_id_category.cat.categories.get_loc(user_id)\n",
    "\n",
    "            #  Obter o vetor latente do usuário\n",
    "            user_vector = user_factors[user_index].reshape(1, -1)\n",
    "\n",
    "\n",
    "            #  Calcular a similaridade com os top_p itens\n",
    "            similarities = cosine_similarity(user_vector, item_factors).flatten()\n",
    "\n",
    "            #  Selecionar os índices dos itens mais similares dentro do top_p\n",
    "            recommended_indices = similarities.argsort()[::-1][:top_p]\n",
    "\n",
    "            #  Ajustar os índices para o mapeamento correto nos itens originais\n",
    "            recommended_items = history_id_category.cat.categories[recommended_indices]\n",
    "            print(user_id_category.cat.categories[:5])  # IDs de usuários\n",
    "            print(history_id_category.cat.categories[:5])  # IDs de histórico\n",
    "        except KeyError:\n",
    "            print(f\"User ID {user_id} não encontrado! O usuário pode estar offline\")\n",
    "            return []\n",
    "\n",
    "        # Retornar os itens recomendados, agora incluindo a similaridade\n",
    "        return (\n",
    "            news_item.set_index('history')\n",
    "            .loc[recommended_items]\n",
    "            .assign(similarity=similarities[recommended_indices])\n",
    "            .sort_values(['similarity', 'recency_score', 'popularity_score'], ascending=[False, False, False])\n",
    "            .head(top_k)\n",
    "        )\n",
    "\n",
    "    else:\n",
    "        # Retorno padrão baseado em popularidade e recência\n",
    "        return (\n",
    "            news_item.set_index('history')\n",
    "            .sort_values(['popularity_score', 'recency_score'], ascending=[False, False])\n",
    "            .head(top_k)\n",
    "        )\n",
    "recomendar_noticias_por_similaridade_vector_svd(user_id, 100, user_vector, item_factors, user_id_category, history_id_category, news_item, top_k=5, top_p=10)"
   ],
   "id": "1f54b83feae1a5d3"
  },
  {
   "metadata": {},
   "cell_type": "markdown",
   "source": [
    "# Salvando dados refinados\n",
    "\n",
    "Esse código salva os DataFrames user_historys e news_item em um banco SQLite, criando ou substituindo as tabelas correspondentes.\n",
    "\n",
    "Apesar de ser uma solução prática para armazenar dados refinados, pode ser interessante considerar um banco mais robusto (como PostgreSQL) caso o volume de dados cresça, garantindo maior escalabilidade e suporte a consultas mais complexas."
   ],
   "id": "36b9849f813dcd6c"
  },
  {
   "metadata": {},
   "cell_type": "code",
   "outputs": [
    {
     "data": {
      "text/plain": [
       "255603"
      ]
     },
     "execution_count": 10,
     "metadata": {},
     "output_type": "execute_result"
    }
   ],
   "execution_count": 10,
   "source": [
    "from sqlalchemy import create_engine\n",
    "\n",
    "# 💾 Salvar no SQLite\n",
    "engine = create_engine('sqlite:///../data/refined/datawarehouse.db', echo=False)\n",
    "\n",
    "# Salvar os DataFrames no banco de dados\n",
    "user_historys.to_sql('user_historys', con=engine, if_exists='replace', index=False)\n",
    "news_item.to_sql('news_item', con=engine, if_exists='replace', index=False)"
   ],
   "id": "d6d9b4ac7b1016f8"
  }
 ],
 "metadata": {
  "kernelspec": {
   "display_name": "Python 3",
   "language": "python",
   "name": "python3"
  },
  "language_info": {
   "codemirror_mode": {
    "name": "ipython",
    "version": 2
   },
   "file_extension": ".py",
   "mimetype": "text/x-python",
   "name": "python",
   "nbconvert_exporter": "python",
   "pygments_lexer": "ipython2",
   "version": "2.7.6"
  }
 },
 "nbformat": 4,
 "nbformat_minor": 5
}
